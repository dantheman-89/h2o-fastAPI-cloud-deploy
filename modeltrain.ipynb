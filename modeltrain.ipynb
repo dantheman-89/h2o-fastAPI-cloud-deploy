{
 "cells": [
  {
   "cell_type": "code",
   "execution_count": 99,
   "metadata": {},
   "outputs": [],
   "source": [
    "# import libraries\n",
    "import pandas as pd\n",
    "import numpy as np\n",
    "import pathlib\n",
    "from sklearn import datasets\n",
    "import plotly.express as px\n",
    "import h2o\n",
    "from h2o.estimators.gbm import H2OGradientBoostingEstimator\n",
    "\n",
    "pd.set_option('display.max_columns', 50)"
   ]
  },
  {
   "cell_type": "code",
   "execution_count": 100,
   "metadata": {},
   "outputs": [],
   "source": [
    "# import iris dataset\n",
    "iris = datasets.load_iris()\n",
    "\n",
    "iris_df = pd.DataFrame(\n",
    "    data=np.concatenate([iris[\"data\"], iris[\"target\"].reshape(150,1)], axis=1),\n",
    "    columns= [\"sepal_length_cm\", \"sepal_width_cm\", \"petal_length_cm\", \"petal_width_cm\", \"target\"]\n",
    ")\n",
    "\n",
    "iris_df = iris_df.merge(right=pd.DataFrame({\"target\":[0.0, 1.0, 2.0], \"species\":[\"setosa\", \"versicolor\",\"virginica\"]}), on=\"target\", how=\"left\")"
   ]
  },
  {
   "cell_type": "code",
   "execution_count": 101,
   "metadata": {},
   "outputs": [
    {
     "data": {
      "text/html": [
       "<div>\n",
       "<style scoped>\n",
       "    .dataframe tbody tr th:only-of-type {\n",
       "        vertical-align: middle;\n",
       "    }\n",
       "\n",
       "    .dataframe tbody tr th {\n",
       "        vertical-align: top;\n",
       "    }\n",
       "\n",
       "    .dataframe thead tr th {\n",
       "        text-align: left;\n",
       "    }\n",
       "\n",
       "    .dataframe thead tr:last-of-type th {\n",
       "        text-align: right;\n",
       "    }\n",
       "</style>\n",
       "<table border=\"1\" class=\"dataframe\">\n",
       "  <thead>\n",
       "    <tr>\n",
       "      <th></th>\n",
       "      <th colspan=\"8\" halign=\"left\">sepal_length_cm</th>\n",
       "      <th colspan=\"8\" halign=\"left\">sepal_width_cm</th>\n",
       "      <th colspan=\"8\" halign=\"left\">petal_length_cm</th>\n",
       "      <th colspan=\"8\" halign=\"left\">petal_width_cm</th>\n",
       "      <th colspan=\"8\" halign=\"left\">target</th>\n",
       "    </tr>\n",
       "    <tr>\n",
       "      <th></th>\n",
       "      <th>count</th>\n",
       "      <th>mean</th>\n",
       "      <th>std</th>\n",
       "      <th>min</th>\n",
       "      <th>25%</th>\n",
       "      <th>50%</th>\n",
       "      <th>75%</th>\n",
       "      <th>max</th>\n",
       "      <th>count</th>\n",
       "      <th>mean</th>\n",
       "      <th>std</th>\n",
       "      <th>min</th>\n",
       "      <th>25%</th>\n",
       "      <th>50%</th>\n",
       "      <th>75%</th>\n",
       "      <th>max</th>\n",
       "      <th>count</th>\n",
       "      <th>mean</th>\n",
       "      <th>std</th>\n",
       "      <th>min</th>\n",
       "      <th>25%</th>\n",
       "      <th>50%</th>\n",
       "      <th>75%</th>\n",
       "      <th>max</th>\n",
       "      <th>count</th>\n",
       "      <th>mean</th>\n",
       "      <th>std</th>\n",
       "      <th>min</th>\n",
       "      <th>25%</th>\n",
       "      <th>50%</th>\n",
       "      <th>75%</th>\n",
       "      <th>max</th>\n",
       "      <th>count</th>\n",
       "      <th>mean</th>\n",
       "      <th>std</th>\n",
       "      <th>min</th>\n",
       "      <th>25%</th>\n",
       "      <th>50%</th>\n",
       "      <th>75%</th>\n",
       "      <th>max</th>\n",
       "    </tr>\n",
       "    <tr>\n",
       "      <th>species</th>\n",
       "      <th></th>\n",
       "      <th></th>\n",
       "      <th></th>\n",
       "      <th></th>\n",
       "      <th></th>\n",
       "      <th></th>\n",
       "      <th></th>\n",
       "      <th></th>\n",
       "      <th></th>\n",
       "      <th></th>\n",
       "      <th></th>\n",
       "      <th></th>\n",
       "      <th></th>\n",
       "      <th></th>\n",
       "      <th></th>\n",
       "      <th></th>\n",
       "      <th></th>\n",
       "      <th></th>\n",
       "      <th></th>\n",
       "      <th></th>\n",
       "      <th></th>\n",
       "      <th></th>\n",
       "      <th></th>\n",
       "      <th></th>\n",
       "      <th></th>\n",
       "      <th></th>\n",
       "      <th></th>\n",
       "      <th></th>\n",
       "      <th></th>\n",
       "      <th></th>\n",
       "      <th></th>\n",
       "      <th></th>\n",
       "      <th></th>\n",
       "      <th></th>\n",
       "      <th></th>\n",
       "      <th></th>\n",
       "      <th></th>\n",
       "      <th></th>\n",
       "      <th></th>\n",
       "      <th></th>\n",
       "    </tr>\n",
       "  </thead>\n",
       "  <tbody>\n",
       "    <tr>\n",
       "      <th>setosa</th>\n",
       "      <td>50.0</td>\n",
       "      <td>5.006</td>\n",
       "      <td>0.352490</td>\n",
       "      <td>4.3</td>\n",
       "      <td>4.800</td>\n",
       "      <td>5.0</td>\n",
       "      <td>5.2</td>\n",
       "      <td>5.8</td>\n",
       "      <td>50.0</td>\n",
       "      <td>3.428</td>\n",
       "      <td>0.379064</td>\n",
       "      <td>2.3</td>\n",
       "      <td>3.200</td>\n",
       "      <td>3.4</td>\n",
       "      <td>3.675</td>\n",
       "      <td>4.4</td>\n",
       "      <td>50.0</td>\n",
       "      <td>1.462</td>\n",
       "      <td>0.173664</td>\n",
       "      <td>1.0</td>\n",
       "      <td>1.4</td>\n",
       "      <td>1.50</td>\n",
       "      <td>1.575</td>\n",
       "      <td>1.9</td>\n",
       "      <td>50.0</td>\n",
       "      <td>0.246</td>\n",
       "      <td>0.105386</td>\n",
       "      <td>0.1</td>\n",
       "      <td>0.2</td>\n",
       "      <td>0.2</td>\n",
       "      <td>0.3</td>\n",
       "      <td>0.6</td>\n",
       "      <td>50.0</td>\n",
       "      <td>0.0</td>\n",
       "      <td>0.0</td>\n",
       "      <td>0.0</td>\n",
       "      <td>0.0</td>\n",
       "      <td>0.0</td>\n",
       "      <td>0.0</td>\n",
       "      <td>0.0</td>\n",
       "    </tr>\n",
       "    <tr>\n",
       "      <th>versicolor</th>\n",
       "      <td>50.0</td>\n",
       "      <td>5.936</td>\n",
       "      <td>0.516171</td>\n",
       "      <td>4.9</td>\n",
       "      <td>5.600</td>\n",
       "      <td>5.9</td>\n",
       "      <td>6.3</td>\n",
       "      <td>7.0</td>\n",
       "      <td>50.0</td>\n",
       "      <td>2.770</td>\n",
       "      <td>0.313798</td>\n",
       "      <td>2.0</td>\n",
       "      <td>2.525</td>\n",
       "      <td>2.8</td>\n",
       "      <td>3.000</td>\n",
       "      <td>3.4</td>\n",
       "      <td>50.0</td>\n",
       "      <td>4.260</td>\n",
       "      <td>0.469911</td>\n",
       "      <td>3.0</td>\n",
       "      <td>4.0</td>\n",
       "      <td>4.35</td>\n",
       "      <td>4.600</td>\n",
       "      <td>5.1</td>\n",
       "      <td>50.0</td>\n",
       "      <td>1.326</td>\n",
       "      <td>0.197753</td>\n",
       "      <td>1.0</td>\n",
       "      <td>1.2</td>\n",
       "      <td>1.3</td>\n",
       "      <td>1.5</td>\n",
       "      <td>1.8</td>\n",
       "      <td>50.0</td>\n",
       "      <td>1.0</td>\n",
       "      <td>0.0</td>\n",
       "      <td>1.0</td>\n",
       "      <td>1.0</td>\n",
       "      <td>1.0</td>\n",
       "      <td>1.0</td>\n",
       "      <td>1.0</td>\n",
       "    </tr>\n",
       "    <tr>\n",
       "      <th>virginica</th>\n",
       "      <td>50.0</td>\n",
       "      <td>6.588</td>\n",
       "      <td>0.635880</td>\n",
       "      <td>4.9</td>\n",
       "      <td>6.225</td>\n",
       "      <td>6.5</td>\n",
       "      <td>6.9</td>\n",
       "      <td>7.9</td>\n",
       "      <td>50.0</td>\n",
       "      <td>2.974</td>\n",
       "      <td>0.322497</td>\n",
       "      <td>2.2</td>\n",
       "      <td>2.800</td>\n",
       "      <td>3.0</td>\n",
       "      <td>3.175</td>\n",
       "      <td>3.8</td>\n",
       "      <td>50.0</td>\n",
       "      <td>5.552</td>\n",
       "      <td>0.551895</td>\n",
       "      <td>4.5</td>\n",
       "      <td>5.1</td>\n",
       "      <td>5.55</td>\n",
       "      <td>5.875</td>\n",
       "      <td>6.9</td>\n",
       "      <td>50.0</td>\n",
       "      <td>2.026</td>\n",
       "      <td>0.274650</td>\n",
       "      <td>1.4</td>\n",
       "      <td>1.8</td>\n",
       "      <td>2.0</td>\n",
       "      <td>2.3</td>\n",
       "      <td>2.5</td>\n",
       "      <td>50.0</td>\n",
       "      <td>2.0</td>\n",
       "      <td>0.0</td>\n",
       "      <td>2.0</td>\n",
       "      <td>2.0</td>\n",
       "      <td>2.0</td>\n",
       "      <td>2.0</td>\n",
       "      <td>2.0</td>\n",
       "    </tr>\n",
       "  </tbody>\n",
       "</table>\n",
       "</div>"
      ],
      "text/plain": [
       "           sepal_length_cm                                              \\\n",
       "                     count   mean       std  min    25%  50%  75%  max   \n",
       "species                                                                  \n",
       "setosa                50.0  5.006  0.352490  4.3  4.800  5.0  5.2  5.8   \n",
       "versicolor            50.0  5.936  0.516171  4.9  5.600  5.9  6.3  7.0   \n",
       "virginica             50.0  6.588  0.635880  4.9  6.225  6.5  6.9  7.9   \n",
       "\n",
       "           sepal_width_cm                                                \\\n",
       "                    count   mean       std  min    25%  50%    75%  max   \n",
       "species                                                                   \n",
       "setosa               50.0  3.428  0.379064  2.3  3.200  3.4  3.675  4.4   \n",
       "versicolor           50.0  2.770  0.313798  2.0  2.525  2.8  3.000  3.4   \n",
       "virginica            50.0  2.974  0.322497  2.2  2.800  3.0  3.175  3.8   \n",
       "\n",
       "           petal_length_cm                                               \\\n",
       "                     count   mean       std  min  25%   50%    75%  max   \n",
       "species                                                                   \n",
       "setosa                50.0  1.462  0.173664  1.0  1.4  1.50  1.575  1.9   \n",
       "versicolor            50.0  4.260  0.469911  3.0  4.0  4.35  4.600  5.1   \n",
       "virginica             50.0  5.552  0.551895  4.5  5.1  5.55  5.875  6.9   \n",
       "\n",
       "           petal_width_cm                                           target  \\\n",
       "                    count   mean       std  min  25%  50%  75%  max  count   \n",
       "species                                                                      \n",
       "setosa               50.0  0.246  0.105386  0.1  0.2  0.2  0.3  0.6   50.0   \n",
       "versicolor           50.0  1.326  0.197753  1.0  1.2  1.3  1.5  1.8   50.0   \n",
       "virginica            50.0  2.026  0.274650  1.4  1.8  2.0  2.3  2.5   50.0   \n",
       "\n",
       "                                               \n",
       "           mean  std  min  25%  50%  75%  max  \n",
       "species                                        \n",
       "setosa      0.0  0.0  0.0  0.0  0.0  0.0  0.0  \n",
       "versicolor  1.0  0.0  1.0  1.0  1.0  1.0  1.0  \n",
       "virginica   2.0  0.0  2.0  2.0  2.0  2.0  2.0  "
      ]
     },
     "execution_count": 101,
     "metadata": {},
     "output_type": "execute_result"
    }
   ],
   "source": [
    "# data exploration\n",
    "iris_df.groupby(\"species\").describe()"
   ]
  },
  {
   "cell_type": "code",
   "execution_count": 102,
   "metadata": {},
   "outputs": [
    {
     "data": {
      "application/vnd.plotly.v1+json": {
       "config": {
        "plotlyServerURL": "https://plot.ly"
       },
       "data": [
        {
         "hovertemplate": "species=setosa<br>petal_width_cm=%{x}<br>petal_length_cm=%{y}<extra></extra>",
         "legendgroup": "setosa",
         "marker": {
          "color": "#636efa",
          "symbol": "circle"
         },
         "mode": "markers",
         "name": "setosa",
         "orientation": "v",
         "showlegend": true,
         "type": "scatter",
         "x": [
          0.2,
          0.2,
          0.2,
          0.2,
          0.2,
          0.4,
          0.3,
          0.2,
          0.2,
          0.1,
          0.2,
          0.2,
          0.1,
          0.1,
          0.2,
          0.4,
          0.4,
          0.3,
          0.3,
          0.3,
          0.2,
          0.4,
          0.2,
          0.5,
          0.2,
          0.2,
          0.4,
          0.2,
          0.2,
          0.2,
          0.2,
          0.4,
          0.1,
          0.2,
          0.2,
          0.2,
          0.2,
          0.1,
          0.2,
          0.2,
          0.3,
          0.3,
          0.2,
          0.6,
          0.4,
          0.3,
          0.2,
          0.2,
          0.2,
          0.2
         ],
         "xaxis": "x",
         "y": [
          1.4,
          1.4,
          1.3,
          1.5,
          1.4,
          1.7,
          1.4,
          1.5,
          1.4,
          1.5,
          1.5,
          1.6,
          1.4,
          1.1,
          1.2,
          1.5,
          1.3,
          1.4,
          1.7,
          1.5,
          1.7,
          1.5,
          1,
          1.7,
          1.9,
          1.6,
          1.6,
          1.5,
          1.4,
          1.6,
          1.6,
          1.5,
          1.5,
          1.4,
          1.5,
          1.2,
          1.3,
          1.4,
          1.3,
          1.5,
          1.3,
          1.3,
          1.3,
          1.6,
          1.9,
          1.4,
          1.6,
          1.4,
          1.5,
          1.4
         ],
         "yaxis": "y"
        },
        {
         "hovertemplate": "species=versicolor<br>petal_width_cm=%{x}<br>petal_length_cm=%{y}<extra></extra>",
         "legendgroup": "versicolor",
         "marker": {
          "color": "#EF553B",
          "symbol": "circle"
         },
         "mode": "markers",
         "name": "versicolor",
         "orientation": "v",
         "showlegend": true,
         "type": "scatter",
         "x": [
          1.4,
          1.5,
          1.5,
          1.3,
          1.5,
          1.3,
          1.6,
          1,
          1.3,
          1.4,
          1,
          1.5,
          1,
          1.4,
          1.3,
          1.4,
          1.5,
          1,
          1.5,
          1.1,
          1.8,
          1.3,
          1.5,
          1.2,
          1.3,
          1.4,
          1.4,
          1.7,
          1.5,
          1,
          1.1,
          1,
          1.2,
          1.6,
          1.5,
          1.6,
          1.5,
          1.3,
          1.3,
          1.3,
          1.2,
          1.4,
          1.2,
          1,
          1.3,
          1.2,
          1.3,
          1.3,
          1.1,
          1.3
         ],
         "xaxis": "x",
         "y": [
          4.7,
          4.5,
          4.9,
          4,
          4.6,
          4.5,
          4.7,
          3.3,
          4.6,
          3.9,
          3.5,
          4.2,
          4,
          4.7,
          3.6,
          4.4,
          4.5,
          4.1,
          4.5,
          3.9,
          4.8,
          4,
          4.9,
          4.7,
          4.3,
          4.4,
          4.8,
          5,
          4.5,
          3.5,
          3.8,
          3.7,
          3.9,
          5.1,
          4.5,
          4.5,
          4.7,
          4.4,
          4.1,
          4,
          4.4,
          4.6,
          4,
          3.3,
          4.2,
          4.2,
          4.2,
          4.3,
          3,
          4.1
         ],
         "yaxis": "y"
        },
        {
         "hovertemplate": "species=virginica<br>petal_width_cm=%{x}<br>petal_length_cm=%{y}<extra></extra>",
         "legendgroup": "virginica",
         "marker": {
          "color": "#00cc96",
          "symbol": "circle"
         },
         "mode": "markers",
         "name": "virginica",
         "orientation": "v",
         "showlegend": true,
         "type": "scatter",
         "x": [
          2.5,
          1.9,
          2.1,
          1.8,
          2.2,
          2.1,
          1.7,
          1.8,
          1.8,
          2.5,
          2,
          1.9,
          2.1,
          2,
          2.4,
          2.3,
          1.8,
          2.2,
          2.3,
          1.5,
          2.3,
          2,
          2,
          1.8,
          2.1,
          1.8,
          1.8,
          1.8,
          2.1,
          1.6,
          1.9,
          2,
          2.2,
          1.5,
          1.4,
          2.3,
          2.4,
          1.8,
          1.8,
          2.1,
          2.4,
          2.3,
          1.9,
          2.3,
          2.5,
          2.3,
          1.9,
          2,
          2.3,
          1.8
         ],
         "xaxis": "x",
         "y": [
          6,
          5.1,
          5.9,
          5.6,
          5.8,
          6.6,
          4.5,
          6.3,
          5.8,
          6.1,
          5.1,
          5.3,
          5.5,
          5,
          5.1,
          5.3,
          5.5,
          6.7,
          6.9,
          5,
          5.7,
          4.9,
          6.7,
          4.9,
          5.7,
          6,
          4.8,
          4.9,
          5.6,
          5.8,
          6.1,
          6.4,
          5.6,
          5.1,
          5.6,
          6.1,
          5.6,
          5.5,
          4.8,
          5.4,
          5.6,
          5.1,
          5.1,
          5.9,
          5.7,
          5.2,
          5,
          5.2,
          5.4,
          5.1
         ],
         "yaxis": "y"
        }
       ],
       "layout": {
        "legend": {
         "title": {
          "text": "species"
         },
         "tracegroupgap": 0
        },
        "margin": {
         "t": 60
        },
        "template": {
         "data": {
          "bar": [
           {
            "error_x": {
             "color": "#2a3f5f"
            },
            "error_y": {
             "color": "#2a3f5f"
            },
            "marker": {
             "line": {
              "color": "#E5ECF6",
              "width": 0.5
             },
             "pattern": {
              "fillmode": "overlay",
              "size": 10,
              "solidity": 0.2
             }
            },
            "type": "bar"
           }
          ],
          "barpolar": [
           {
            "marker": {
             "line": {
              "color": "#E5ECF6",
              "width": 0.5
             },
             "pattern": {
              "fillmode": "overlay",
              "size": 10,
              "solidity": 0.2
             }
            },
            "type": "barpolar"
           }
          ],
          "carpet": [
           {
            "aaxis": {
             "endlinecolor": "#2a3f5f",
             "gridcolor": "white",
             "linecolor": "white",
             "minorgridcolor": "white",
             "startlinecolor": "#2a3f5f"
            },
            "baxis": {
             "endlinecolor": "#2a3f5f",
             "gridcolor": "white",
             "linecolor": "white",
             "minorgridcolor": "white",
             "startlinecolor": "#2a3f5f"
            },
            "type": "carpet"
           }
          ],
          "choropleth": [
           {
            "colorbar": {
             "outlinewidth": 0,
             "ticks": ""
            },
            "type": "choropleth"
           }
          ],
          "contour": [
           {
            "colorbar": {
             "outlinewidth": 0,
             "ticks": ""
            },
            "colorscale": [
             [
              0,
              "#0d0887"
             ],
             [
              0.1111111111111111,
              "#46039f"
             ],
             [
              0.2222222222222222,
              "#7201a8"
             ],
             [
              0.3333333333333333,
              "#9c179e"
             ],
             [
              0.4444444444444444,
              "#bd3786"
             ],
             [
              0.5555555555555556,
              "#d8576b"
             ],
             [
              0.6666666666666666,
              "#ed7953"
             ],
             [
              0.7777777777777778,
              "#fb9f3a"
             ],
             [
              0.8888888888888888,
              "#fdca26"
             ],
             [
              1,
              "#f0f921"
             ]
            ],
            "type": "contour"
           }
          ],
          "contourcarpet": [
           {
            "colorbar": {
             "outlinewidth": 0,
             "ticks": ""
            },
            "type": "contourcarpet"
           }
          ],
          "heatmap": [
           {
            "colorbar": {
             "outlinewidth": 0,
             "ticks": ""
            },
            "colorscale": [
             [
              0,
              "#0d0887"
             ],
             [
              0.1111111111111111,
              "#46039f"
             ],
             [
              0.2222222222222222,
              "#7201a8"
             ],
             [
              0.3333333333333333,
              "#9c179e"
             ],
             [
              0.4444444444444444,
              "#bd3786"
             ],
             [
              0.5555555555555556,
              "#d8576b"
             ],
             [
              0.6666666666666666,
              "#ed7953"
             ],
             [
              0.7777777777777778,
              "#fb9f3a"
             ],
             [
              0.8888888888888888,
              "#fdca26"
             ],
             [
              1,
              "#f0f921"
             ]
            ],
            "type": "heatmap"
           }
          ],
          "heatmapgl": [
           {
            "colorbar": {
             "outlinewidth": 0,
             "ticks": ""
            },
            "colorscale": [
             [
              0,
              "#0d0887"
             ],
             [
              0.1111111111111111,
              "#46039f"
             ],
             [
              0.2222222222222222,
              "#7201a8"
             ],
             [
              0.3333333333333333,
              "#9c179e"
             ],
             [
              0.4444444444444444,
              "#bd3786"
             ],
             [
              0.5555555555555556,
              "#d8576b"
             ],
             [
              0.6666666666666666,
              "#ed7953"
             ],
             [
              0.7777777777777778,
              "#fb9f3a"
             ],
             [
              0.8888888888888888,
              "#fdca26"
             ],
             [
              1,
              "#f0f921"
             ]
            ],
            "type": "heatmapgl"
           }
          ],
          "histogram": [
           {
            "marker": {
             "pattern": {
              "fillmode": "overlay",
              "size": 10,
              "solidity": 0.2
             }
            },
            "type": "histogram"
           }
          ],
          "histogram2d": [
           {
            "colorbar": {
             "outlinewidth": 0,
             "ticks": ""
            },
            "colorscale": [
             [
              0,
              "#0d0887"
             ],
             [
              0.1111111111111111,
              "#46039f"
             ],
             [
              0.2222222222222222,
              "#7201a8"
             ],
             [
              0.3333333333333333,
              "#9c179e"
             ],
             [
              0.4444444444444444,
              "#bd3786"
             ],
             [
              0.5555555555555556,
              "#d8576b"
             ],
             [
              0.6666666666666666,
              "#ed7953"
             ],
             [
              0.7777777777777778,
              "#fb9f3a"
             ],
             [
              0.8888888888888888,
              "#fdca26"
             ],
             [
              1,
              "#f0f921"
             ]
            ],
            "type": "histogram2d"
           }
          ],
          "histogram2dcontour": [
           {
            "colorbar": {
             "outlinewidth": 0,
             "ticks": ""
            },
            "colorscale": [
             [
              0,
              "#0d0887"
             ],
             [
              0.1111111111111111,
              "#46039f"
             ],
             [
              0.2222222222222222,
              "#7201a8"
             ],
             [
              0.3333333333333333,
              "#9c179e"
             ],
             [
              0.4444444444444444,
              "#bd3786"
             ],
             [
              0.5555555555555556,
              "#d8576b"
             ],
             [
              0.6666666666666666,
              "#ed7953"
             ],
             [
              0.7777777777777778,
              "#fb9f3a"
             ],
             [
              0.8888888888888888,
              "#fdca26"
             ],
             [
              1,
              "#f0f921"
             ]
            ],
            "type": "histogram2dcontour"
           }
          ],
          "mesh3d": [
           {
            "colorbar": {
             "outlinewidth": 0,
             "ticks": ""
            },
            "type": "mesh3d"
           }
          ],
          "parcoords": [
           {
            "line": {
             "colorbar": {
              "outlinewidth": 0,
              "ticks": ""
             }
            },
            "type": "parcoords"
           }
          ],
          "pie": [
           {
            "automargin": true,
            "type": "pie"
           }
          ],
          "scatter": [
           {
            "fillpattern": {
             "fillmode": "overlay",
             "size": 10,
             "solidity": 0.2
            },
            "type": "scatter"
           }
          ],
          "scatter3d": [
           {
            "line": {
             "colorbar": {
              "outlinewidth": 0,
              "ticks": ""
             }
            },
            "marker": {
             "colorbar": {
              "outlinewidth": 0,
              "ticks": ""
             }
            },
            "type": "scatter3d"
           }
          ],
          "scattercarpet": [
           {
            "marker": {
             "colorbar": {
              "outlinewidth": 0,
              "ticks": ""
             }
            },
            "type": "scattercarpet"
           }
          ],
          "scattergeo": [
           {
            "marker": {
             "colorbar": {
              "outlinewidth": 0,
              "ticks": ""
             }
            },
            "type": "scattergeo"
           }
          ],
          "scattergl": [
           {
            "marker": {
             "colorbar": {
              "outlinewidth": 0,
              "ticks": ""
             }
            },
            "type": "scattergl"
           }
          ],
          "scattermapbox": [
           {
            "marker": {
             "colorbar": {
              "outlinewidth": 0,
              "ticks": ""
             }
            },
            "type": "scattermapbox"
           }
          ],
          "scatterpolar": [
           {
            "marker": {
             "colorbar": {
              "outlinewidth": 0,
              "ticks": ""
             }
            },
            "type": "scatterpolar"
           }
          ],
          "scatterpolargl": [
           {
            "marker": {
             "colorbar": {
              "outlinewidth": 0,
              "ticks": ""
             }
            },
            "type": "scatterpolargl"
           }
          ],
          "scatterternary": [
           {
            "marker": {
             "colorbar": {
              "outlinewidth": 0,
              "ticks": ""
             }
            },
            "type": "scatterternary"
           }
          ],
          "surface": [
           {
            "colorbar": {
             "outlinewidth": 0,
             "ticks": ""
            },
            "colorscale": [
             [
              0,
              "#0d0887"
             ],
             [
              0.1111111111111111,
              "#46039f"
             ],
             [
              0.2222222222222222,
              "#7201a8"
             ],
             [
              0.3333333333333333,
              "#9c179e"
             ],
             [
              0.4444444444444444,
              "#bd3786"
             ],
             [
              0.5555555555555556,
              "#d8576b"
             ],
             [
              0.6666666666666666,
              "#ed7953"
             ],
             [
              0.7777777777777778,
              "#fb9f3a"
             ],
             [
              0.8888888888888888,
              "#fdca26"
             ],
             [
              1,
              "#f0f921"
             ]
            ],
            "type": "surface"
           }
          ],
          "table": [
           {
            "cells": {
             "fill": {
              "color": "#EBF0F8"
             },
             "line": {
              "color": "white"
             }
            },
            "header": {
             "fill": {
              "color": "#C8D4E3"
             },
             "line": {
              "color": "white"
             }
            },
            "type": "table"
           }
          ]
         },
         "layout": {
          "annotationdefaults": {
           "arrowcolor": "#2a3f5f",
           "arrowhead": 0,
           "arrowwidth": 1
          },
          "autotypenumbers": "strict",
          "coloraxis": {
           "colorbar": {
            "outlinewidth": 0,
            "ticks": ""
           }
          },
          "colorscale": {
           "diverging": [
            [
             0,
             "#8e0152"
            ],
            [
             0.1,
             "#c51b7d"
            ],
            [
             0.2,
             "#de77ae"
            ],
            [
             0.3,
             "#f1b6da"
            ],
            [
             0.4,
             "#fde0ef"
            ],
            [
             0.5,
             "#f7f7f7"
            ],
            [
             0.6,
             "#e6f5d0"
            ],
            [
             0.7,
             "#b8e186"
            ],
            [
             0.8,
             "#7fbc41"
            ],
            [
             0.9,
             "#4d9221"
            ],
            [
             1,
             "#276419"
            ]
           ],
           "sequential": [
            [
             0,
             "#0d0887"
            ],
            [
             0.1111111111111111,
             "#46039f"
            ],
            [
             0.2222222222222222,
             "#7201a8"
            ],
            [
             0.3333333333333333,
             "#9c179e"
            ],
            [
             0.4444444444444444,
             "#bd3786"
            ],
            [
             0.5555555555555556,
             "#d8576b"
            ],
            [
             0.6666666666666666,
             "#ed7953"
            ],
            [
             0.7777777777777778,
             "#fb9f3a"
            ],
            [
             0.8888888888888888,
             "#fdca26"
            ],
            [
             1,
             "#f0f921"
            ]
           ],
           "sequentialminus": [
            [
             0,
             "#0d0887"
            ],
            [
             0.1111111111111111,
             "#46039f"
            ],
            [
             0.2222222222222222,
             "#7201a8"
            ],
            [
             0.3333333333333333,
             "#9c179e"
            ],
            [
             0.4444444444444444,
             "#bd3786"
            ],
            [
             0.5555555555555556,
             "#d8576b"
            ],
            [
             0.6666666666666666,
             "#ed7953"
            ],
            [
             0.7777777777777778,
             "#fb9f3a"
            ],
            [
             0.8888888888888888,
             "#fdca26"
            ],
            [
             1,
             "#f0f921"
            ]
           ]
          },
          "colorway": [
           "#636efa",
           "#EF553B",
           "#00cc96",
           "#ab63fa",
           "#FFA15A",
           "#19d3f3",
           "#FF6692",
           "#B6E880",
           "#FF97FF",
           "#FECB52"
          ],
          "font": {
           "color": "#2a3f5f"
          },
          "geo": {
           "bgcolor": "white",
           "lakecolor": "white",
           "landcolor": "#E5ECF6",
           "showlakes": true,
           "showland": true,
           "subunitcolor": "white"
          },
          "hoverlabel": {
           "align": "left"
          },
          "hovermode": "closest",
          "mapbox": {
           "style": "light"
          },
          "paper_bgcolor": "white",
          "plot_bgcolor": "#E5ECF6",
          "polar": {
           "angularaxis": {
            "gridcolor": "white",
            "linecolor": "white",
            "ticks": ""
           },
           "bgcolor": "#E5ECF6",
           "radialaxis": {
            "gridcolor": "white",
            "linecolor": "white",
            "ticks": ""
           }
          },
          "scene": {
           "xaxis": {
            "backgroundcolor": "#E5ECF6",
            "gridcolor": "white",
            "gridwidth": 2,
            "linecolor": "white",
            "showbackground": true,
            "ticks": "",
            "zerolinecolor": "white"
           },
           "yaxis": {
            "backgroundcolor": "#E5ECF6",
            "gridcolor": "white",
            "gridwidth": 2,
            "linecolor": "white",
            "showbackground": true,
            "ticks": "",
            "zerolinecolor": "white"
           },
           "zaxis": {
            "backgroundcolor": "#E5ECF6",
            "gridcolor": "white",
            "gridwidth": 2,
            "linecolor": "white",
            "showbackground": true,
            "ticks": "",
            "zerolinecolor": "white"
           }
          },
          "shapedefaults": {
           "line": {
            "color": "#2a3f5f"
           }
          },
          "ternary": {
           "aaxis": {
            "gridcolor": "white",
            "linecolor": "white",
            "ticks": ""
           },
           "baxis": {
            "gridcolor": "white",
            "linecolor": "white",
            "ticks": ""
           },
           "bgcolor": "#E5ECF6",
           "caxis": {
            "gridcolor": "white",
            "linecolor": "white",
            "ticks": ""
           }
          },
          "title": {
           "x": 0.05
          },
          "xaxis": {
           "automargin": true,
           "gridcolor": "white",
           "linecolor": "white",
           "ticks": "",
           "title": {
            "standoff": 15
           },
           "zerolinecolor": "white",
           "zerolinewidth": 2
          },
          "yaxis": {
           "automargin": true,
           "gridcolor": "white",
           "linecolor": "white",
           "ticks": "",
           "title": {
            "standoff": 15
           },
           "zerolinecolor": "white",
           "zerolinewidth": 2
          }
         }
        },
        "xaxis": {
         "anchor": "y",
         "domain": [
          0,
          1
         ],
         "title": {
          "text": "petal_width_cm"
         }
        },
        "yaxis": {
         "anchor": "x",
         "domain": [
          0,
          1
         ],
         "title": {
          "text": "petal_length_cm"
         }
        }
       }
      }
     },
     "metadata": {},
     "output_type": "display_data"
    }
   ],
   "source": [
    "# data visualisation - Petal vs species\n",
    "fig = px.scatter(iris_df, x=\"petal_width_cm\", y=\"petal_length_cm\", color=\"species\") \n",
    "fig.show()"
   ]
  },
  {
   "cell_type": "code",
   "execution_count": 103,
   "metadata": {},
   "outputs": [
    {
     "data": {
      "application/vnd.plotly.v1+json": {
       "config": {
        "plotlyServerURL": "https://plot.ly"
       },
       "data": [
        {
         "coloraxis": "coloraxis",
         "hovertemplate": "x: %{x}<br>y: %{y}<br>color: %{z}<extra></extra>",
         "name": "0",
         "type": "heatmap",
         "x": [
          "sepal_length_cm",
          "sepal_width_cm",
          "petal_length_cm",
          "petal_width_cm"
         ],
         "xaxis": "x",
         "y": [
          "sepal_length_cm",
          "sepal_width_cm",
          "petal_length_cm",
          "petal_width_cm"
         ],
         "yaxis": "y",
         "z": [
          [
           1,
           -0.11756978413300088,
           0.8717537758865838,
           0.8179411262715758
          ],
          [
           -0.11756978413300088,
           1,
           -0.42844010433053864,
           -0.3661259325364377
          ],
          [
           0.8717537758865838,
           -0.42844010433053864,
           1,
           0.962865431402796
          ],
          [
           0.8179411262715758,
           -0.3661259325364377,
           0.962865431402796,
           1
          ]
         ]
        }
       ],
       "layout": {
        "coloraxis": {
         "colorscale": [
          [
           0,
           "rgb(247,251,255)"
          ],
          [
           0.125,
           "rgb(222,235,247)"
          ],
          [
           0.25,
           "rgb(198,219,239)"
          ],
          [
           0.375,
           "rgb(158,202,225)"
          ],
          [
           0.5,
           "rgb(107,174,214)"
          ],
          [
           0.625,
           "rgb(66,146,198)"
          ],
          [
           0.75,
           "rgb(33,113,181)"
          ],
          [
           0.875,
           "rgb(8,81,156)"
          ],
          [
           1,
           "rgb(8,48,107)"
          ]
         ]
        },
        "margin": {
         "t": 60
        },
        "template": {
         "data": {
          "bar": [
           {
            "error_x": {
             "color": "#2a3f5f"
            },
            "error_y": {
             "color": "#2a3f5f"
            },
            "marker": {
             "line": {
              "color": "#E5ECF6",
              "width": 0.5
             },
             "pattern": {
              "fillmode": "overlay",
              "size": 10,
              "solidity": 0.2
             }
            },
            "type": "bar"
           }
          ],
          "barpolar": [
           {
            "marker": {
             "line": {
              "color": "#E5ECF6",
              "width": 0.5
             },
             "pattern": {
              "fillmode": "overlay",
              "size": 10,
              "solidity": 0.2
             }
            },
            "type": "barpolar"
           }
          ],
          "carpet": [
           {
            "aaxis": {
             "endlinecolor": "#2a3f5f",
             "gridcolor": "white",
             "linecolor": "white",
             "minorgridcolor": "white",
             "startlinecolor": "#2a3f5f"
            },
            "baxis": {
             "endlinecolor": "#2a3f5f",
             "gridcolor": "white",
             "linecolor": "white",
             "minorgridcolor": "white",
             "startlinecolor": "#2a3f5f"
            },
            "type": "carpet"
           }
          ],
          "choropleth": [
           {
            "colorbar": {
             "outlinewidth": 0,
             "ticks": ""
            },
            "type": "choropleth"
           }
          ],
          "contour": [
           {
            "colorbar": {
             "outlinewidth": 0,
             "ticks": ""
            },
            "colorscale": [
             [
              0,
              "#0d0887"
             ],
             [
              0.1111111111111111,
              "#46039f"
             ],
             [
              0.2222222222222222,
              "#7201a8"
             ],
             [
              0.3333333333333333,
              "#9c179e"
             ],
             [
              0.4444444444444444,
              "#bd3786"
             ],
             [
              0.5555555555555556,
              "#d8576b"
             ],
             [
              0.6666666666666666,
              "#ed7953"
             ],
             [
              0.7777777777777778,
              "#fb9f3a"
             ],
             [
              0.8888888888888888,
              "#fdca26"
             ],
             [
              1,
              "#f0f921"
             ]
            ],
            "type": "contour"
           }
          ],
          "contourcarpet": [
           {
            "colorbar": {
             "outlinewidth": 0,
             "ticks": ""
            },
            "type": "contourcarpet"
           }
          ],
          "heatmap": [
           {
            "colorbar": {
             "outlinewidth": 0,
             "ticks": ""
            },
            "colorscale": [
             [
              0,
              "#0d0887"
             ],
             [
              0.1111111111111111,
              "#46039f"
             ],
             [
              0.2222222222222222,
              "#7201a8"
             ],
             [
              0.3333333333333333,
              "#9c179e"
             ],
             [
              0.4444444444444444,
              "#bd3786"
             ],
             [
              0.5555555555555556,
              "#d8576b"
             ],
             [
              0.6666666666666666,
              "#ed7953"
             ],
             [
              0.7777777777777778,
              "#fb9f3a"
             ],
             [
              0.8888888888888888,
              "#fdca26"
             ],
             [
              1,
              "#f0f921"
             ]
            ],
            "type": "heatmap"
           }
          ],
          "heatmapgl": [
           {
            "colorbar": {
             "outlinewidth": 0,
             "ticks": ""
            },
            "colorscale": [
             [
              0,
              "#0d0887"
             ],
             [
              0.1111111111111111,
              "#46039f"
             ],
             [
              0.2222222222222222,
              "#7201a8"
             ],
             [
              0.3333333333333333,
              "#9c179e"
             ],
             [
              0.4444444444444444,
              "#bd3786"
             ],
             [
              0.5555555555555556,
              "#d8576b"
             ],
             [
              0.6666666666666666,
              "#ed7953"
             ],
             [
              0.7777777777777778,
              "#fb9f3a"
             ],
             [
              0.8888888888888888,
              "#fdca26"
             ],
             [
              1,
              "#f0f921"
             ]
            ],
            "type": "heatmapgl"
           }
          ],
          "histogram": [
           {
            "marker": {
             "pattern": {
              "fillmode": "overlay",
              "size": 10,
              "solidity": 0.2
             }
            },
            "type": "histogram"
           }
          ],
          "histogram2d": [
           {
            "colorbar": {
             "outlinewidth": 0,
             "ticks": ""
            },
            "colorscale": [
             [
              0,
              "#0d0887"
             ],
             [
              0.1111111111111111,
              "#46039f"
             ],
             [
              0.2222222222222222,
              "#7201a8"
             ],
             [
              0.3333333333333333,
              "#9c179e"
             ],
             [
              0.4444444444444444,
              "#bd3786"
             ],
             [
              0.5555555555555556,
              "#d8576b"
             ],
             [
              0.6666666666666666,
              "#ed7953"
             ],
             [
              0.7777777777777778,
              "#fb9f3a"
             ],
             [
              0.8888888888888888,
              "#fdca26"
             ],
             [
              1,
              "#f0f921"
             ]
            ],
            "type": "histogram2d"
           }
          ],
          "histogram2dcontour": [
           {
            "colorbar": {
             "outlinewidth": 0,
             "ticks": ""
            },
            "colorscale": [
             [
              0,
              "#0d0887"
             ],
             [
              0.1111111111111111,
              "#46039f"
             ],
             [
              0.2222222222222222,
              "#7201a8"
             ],
             [
              0.3333333333333333,
              "#9c179e"
             ],
             [
              0.4444444444444444,
              "#bd3786"
             ],
             [
              0.5555555555555556,
              "#d8576b"
             ],
             [
              0.6666666666666666,
              "#ed7953"
             ],
             [
              0.7777777777777778,
              "#fb9f3a"
             ],
             [
              0.8888888888888888,
              "#fdca26"
             ],
             [
              1,
              "#f0f921"
             ]
            ],
            "type": "histogram2dcontour"
           }
          ],
          "mesh3d": [
           {
            "colorbar": {
             "outlinewidth": 0,
             "ticks": ""
            },
            "type": "mesh3d"
           }
          ],
          "parcoords": [
           {
            "line": {
             "colorbar": {
              "outlinewidth": 0,
              "ticks": ""
             }
            },
            "type": "parcoords"
           }
          ],
          "pie": [
           {
            "automargin": true,
            "type": "pie"
           }
          ],
          "scatter": [
           {
            "fillpattern": {
             "fillmode": "overlay",
             "size": 10,
             "solidity": 0.2
            },
            "type": "scatter"
           }
          ],
          "scatter3d": [
           {
            "line": {
             "colorbar": {
              "outlinewidth": 0,
              "ticks": ""
             }
            },
            "marker": {
             "colorbar": {
              "outlinewidth": 0,
              "ticks": ""
             }
            },
            "type": "scatter3d"
           }
          ],
          "scattercarpet": [
           {
            "marker": {
             "colorbar": {
              "outlinewidth": 0,
              "ticks": ""
             }
            },
            "type": "scattercarpet"
           }
          ],
          "scattergeo": [
           {
            "marker": {
             "colorbar": {
              "outlinewidth": 0,
              "ticks": ""
             }
            },
            "type": "scattergeo"
           }
          ],
          "scattergl": [
           {
            "marker": {
             "colorbar": {
              "outlinewidth": 0,
              "ticks": ""
             }
            },
            "type": "scattergl"
           }
          ],
          "scattermapbox": [
           {
            "marker": {
             "colorbar": {
              "outlinewidth": 0,
              "ticks": ""
             }
            },
            "type": "scattermapbox"
           }
          ],
          "scatterpolar": [
           {
            "marker": {
             "colorbar": {
              "outlinewidth": 0,
              "ticks": ""
             }
            },
            "type": "scatterpolar"
           }
          ],
          "scatterpolargl": [
           {
            "marker": {
             "colorbar": {
              "outlinewidth": 0,
              "ticks": ""
             }
            },
            "type": "scatterpolargl"
           }
          ],
          "scatterternary": [
           {
            "marker": {
             "colorbar": {
              "outlinewidth": 0,
              "ticks": ""
             }
            },
            "type": "scatterternary"
           }
          ],
          "surface": [
           {
            "colorbar": {
             "outlinewidth": 0,
             "ticks": ""
            },
            "colorscale": [
             [
              0,
              "#0d0887"
             ],
             [
              0.1111111111111111,
              "#46039f"
             ],
             [
              0.2222222222222222,
              "#7201a8"
             ],
             [
              0.3333333333333333,
              "#9c179e"
             ],
             [
              0.4444444444444444,
              "#bd3786"
             ],
             [
              0.5555555555555556,
              "#d8576b"
             ],
             [
              0.6666666666666666,
              "#ed7953"
             ],
             [
              0.7777777777777778,
              "#fb9f3a"
             ],
             [
              0.8888888888888888,
              "#fdca26"
             ],
             [
              1,
              "#f0f921"
             ]
            ],
            "type": "surface"
           }
          ],
          "table": [
           {
            "cells": {
             "fill": {
              "color": "#EBF0F8"
             },
             "line": {
              "color": "white"
             }
            },
            "header": {
             "fill": {
              "color": "#C8D4E3"
             },
             "line": {
              "color": "white"
             }
            },
            "type": "table"
           }
          ]
         },
         "layout": {
          "annotationdefaults": {
           "arrowcolor": "#2a3f5f",
           "arrowhead": 0,
           "arrowwidth": 1
          },
          "autotypenumbers": "strict",
          "coloraxis": {
           "colorbar": {
            "outlinewidth": 0,
            "ticks": ""
           }
          },
          "colorscale": {
           "diverging": [
            [
             0,
             "#8e0152"
            ],
            [
             0.1,
             "#c51b7d"
            ],
            [
             0.2,
             "#de77ae"
            ],
            [
             0.3,
             "#f1b6da"
            ],
            [
             0.4,
             "#fde0ef"
            ],
            [
             0.5,
             "#f7f7f7"
            ],
            [
             0.6,
             "#e6f5d0"
            ],
            [
             0.7,
             "#b8e186"
            ],
            [
             0.8,
             "#7fbc41"
            ],
            [
             0.9,
             "#4d9221"
            ],
            [
             1,
             "#276419"
            ]
           ],
           "sequential": [
            [
             0,
             "#0d0887"
            ],
            [
             0.1111111111111111,
             "#46039f"
            ],
            [
             0.2222222222222222,
             "#7201a8"
            ],
            [
             0.3333333333333333,
             "#9c179e"
            ],
            [
             0.4444444444444444,
             "#bd3786"
            ],
            [
             0.5555555555555556,
             "#d8576b"
            ],
            [
             0.6666666666666666,
             "#ed7953"
            ],
            [
             0.7777777777777778,
             "#fb9f3a"
            ],
            [
             0.8888888888888888,
             "#fdca26"
            ],
            [
             1,
             "#f0f921"
            ]
           ],
           "sequentialminus": [
            [
             0,
             "#0d0887"
            ],
            [
             0.1111111111111111,
             "#46039f"
            ],
            [
             0.2222222222222222,
             "#7201a8"
            ],
            [
             0.3333333333333333,
             "#9c179e"
            ],
            [
             0.4444444444444444,
             "#bd3786"
            ],
            [
             0.5555555555555556,
             "#d8576b"
            ],
            [
             0.6666666666666666,
             "#ed7953"
            ],
            [
             0.7777777777777778,
             "#fb9f3a"
            ],
            [
             0.8888888888888888,
             "#fdca26"
            ],
            [
             1,
             "#f0f921"
            ]
           ]
          },
          "colorway": [
           "#636efa",
           "#EF553B",
           "#00cc96",
           "#ab63fa",
           "#FFA15A",
           "#19d3f3",
           "#FF6692",
           "#B6E880",
           "#FF97FF",
           "#FECB52"
          ],
          "font": {
           "color": "#2a3f5f"
          },
          "geo": {
           "bgcolor": "white",
           "lakecolor": "white",
           "landcolor": "#E5ECF6",
           "showlakes": true,
           "showland": true,
           "subunitcolor": "white"
          },
          "hoverlabel": {
           "align": "left"
          },
          "hovermode": "closest",
          "mapbox": {
           "style": "light"
          },
          "paper_bgcolor": "white",
          "plot_bgcolor": "#E5ECF6",
          "polar": {
           "angularaxis": {
            "gridcolor": "white",
            "linecolor": "white",
            "ticks": ""
           },
           "bgcolor": "#E5ECF6",
           "radialaxis": {
            "gridcolor": "white",
            "linecolor": "white",
            "ticks": ""
           }
          },
          "scene": {
           "xaxis": {
            "backgroundcolor": "#E5ECF6",
            "gridcolor": "white",
            "gridwidth": 2,
            "linecolor": "white",
            "showbackground": true,
            "ticks": "",
            "zerolinecolor": "white"
           },
           "yaxis": {
            "backgroundcolor": "#E5ECF6",
            "gridcolor": "white",
            "gridwidth": 2,
            "linecolor": "white",
            "showbackground": true,
            "ticks": "",
            "zerolinecolor": "white"
           },
           "zaxis": {
            "backgroundcolor": "#E5ECF6",
            "gridcolor": "white",
            "gridwidth": 2,
            "linecolor": "white",
            "showbackground": true,
            "ticks": "",
            "zerolinecolor": "white"
           }
          },
          "shapedefaults": {
           "line": {
            "color": "#2a3f5f"
           }
          },
          "ternary": {
           "aaxis": {
            "gridcolor": "white",
            "linecolor": "white",
            "ticks": ""
           },
           "baxis": {
            "gridcolor": "white",
            "linecolor": "white",
            "ticks": ""
           },
           "bgcolor": "#E5ECF6",
           "caxis": {
            "gridcolor": "white",
            "linecolor": "white",
            "ticks": ""
           }
          },
          "title": {
           "x": 0.05
          },
          "xaxis": {
           "automargin": true,
           "gridcolor": "white",
           "linecolor": "white",
           "ticks": "",
           "title": {
            "standoff": 15
           },
           "zerolinecolor": "white",
           "zerolinewidth": 2
          },
          "yaxis": {
           "automargin": true,
           "gridcolor": "white",
           "linecolor": "white",
           "ticks": "",
           "title": {
            "standoff": 15
           },
           "zerolinecolor": "white",
           "zerolinewidth": 2
          }
         }
        },
        "xaxis": {
         "anchor": "y",
         "constrain": "domain",
         "domain": [
          0,
          1
         ],
         "scaleanchor": "y"
        },
        "yaxis": {
         "anchor": "x",
         "autorange": "reversed",
         "constrain": "domain",
         "domain": [
          0,
          1
         ]
        }
       }
      }
     },
     "metadata": {},
     "output_type": "display_data"
    }
   ],
   "source": [
    "# data visualisation - correlation matrix\n",
    "fig = px.imshow(iris_df.iloc[:, 0:4].corr(), color_continuous_scale=\"blues\") \n",
    "fig.show()"
   ]
  },
  {
   "cell_type": "code",
   "execution_count": 104,
   "metadata": {},
   "outputs": [
    {
     "name": "stdout",
     "output_type": "stream",
     "text": [
      "Checking whether there is an H2O instance running at http://localhost:54321 . connected.\n",
      "Warning: Your H2O cluster version is too old (9 months and 23 days)!Please download and install the latest version from http://h2o.ai/download/\n"
     ]
    },
    {
     "data": {
      "text/html": [
       "<div style=\"overflow:auto\"><table style=\"width:50%\"><tr><td>H2O_cluster_uptime:</td>\n",
       "<td>13 hours 25 mins</td></tr>\n",
       "<tr><td>H2O_cluster_timezone:</td>\n",
       "<td>Australia/Sydney</td></tr>\n",
       "<tr><td>H2O_data_parsing_timezone:</td>\n",
       "<td>UTC</td></tr>\n",
       "<tr><td>H2O_cluster_version:</td>\n",
       "<td>3.36.0.4</td></tr>\n",
       "<tr><td>H2O_cluster_version_age:</td>\n",
       "<td>9 months and 23 days !!!</td></tr>\n",
       "<tr><td>H2O_cluster_name:</td>\n",
       "<td>H2O_from_python_Huang_z42nio</td></tr>\n",
       "<tr><td>H2O_cluster_total_nodes:</td>\n",
       "<td>1</td></tr>\n",
       "<tr><td>H2O_cluster_free_memory:</td>\n",
       "<td>1.952 Gb</td></tr>\n",
       "<tr><td>H2O_cluster_total_cores:</td>\n",
       "<td>8</td></tr>\n",
       "<tr><td>H2O_cluster_allowed_cores:</td>\n",
       "<td>8</td></tr>\n",
       "<tr><td>H2O_cluster_status:</td>\n",
       "<td>locked, healthy</td></tr>\n",
       "<tr><td>H2O_connection_url:</td>\n",
       "<td>http://localhost:54321</td></tr>\n",
       "<tr><td>H2O_connection_proxy:</td>\n",
       "<td>{\"http\": null, \"https\": null}</td></tr>\n",
       "<tr><td>H2O_internal_security:</td>\n",
       "<td>False</td></tr>\n",
       "<tr><td>Python_version:</td>\n",
       "<td>3.8.16 final</td></tr></table></div>"
      ],
      "text/plain": [
       "--------------------------  -----------------------------\n",
       "H2O_cluster_uptime:         13 hours 25 mins\n",
       "H2O_cluster_timezone:       Australia/Sydney\n",
       "H2O_data_parsing_timezone:  UTC\n",
       "H2O_cluster_version:        3.36.0.4\n",
       "H2O_cluster_version_age:    9 months and 23 days !!!\n",
       "H2O_cluster_name:           H2O_from_python_Huang_z42nio\n",
       "H2O_cluster_total_nodes:    1\n",
       "H2O_cluster_free_memory:    1.952 Gb\n",
       "H2O_cluster_total_cores:    8\n",
       "H2O_cluster_allowed_cores:  8\n",
       "H2O_cluster_status:         locked, healthy\n",
       "H2O_connection_url:         http://localhost:54321\n",
       "H2O_connection_proxy:       {\"http\": null, \"https\": null}\n",
       "H2O_internal_security:      False\n",
       "Python_version:             3.8.16 final\n",
       "--------------------------  -----------------------------"
      ]
     },
     "metadata": {},
     "output_type": "display_data"
    }
   ],
   "source": [
    "# initiate h2o instance\n",
    "h2o.init()"
   ]
  },
  {
   "cell_type": "code",
   "execution_count": 107,
   "metadata": {},
   "outputs": [
    {
     "name": "stdout",
     "output_type": "stream",
     "text": [
      "Parse progress: |████████████████████████████████████████████████████████████████| (done) 100%\n"
     ]
    }
   ],
   "source": [
    "# load dataset into h2o\n",
    "iris_hdf = h2o.H2OFrame(iris_df.iloc[:, iris_df.columns!=\"target\"])"
   ]
  },
  {
   "cell_type": "code",
   "execution_count": 108,
   "metadata": {},
   "outputs": [
    {
     "name": "stderr",
     "output_type": "stream",
     "text": [
      "c:\\Users\\Huang\\anaconda3\\envs\\h2o\\lib\\site-packages\\h2o\\estimators\\estimator_base.py:208: RuntimeWarning:\n",
      "\n",
      "early stopping is enabled but neither score_tree_interval or score_each_iteration are defined. Early stopping will not be reproducible!\n",
      "\n"
     ]
    },
    {
     "name": "stdout",
     "output_type": "stream",
     "text": [
      "gbm Model Build progress: |██████████████████████████████████████████████████████| (done) 100%\n",
      "Model Details\n",
      "=============\n",
      "H2OGradientBoostingEstimator :  Gradient Boosting Machine\n",
      "Model Key:  GBM_model_python_1674387121940_5\n",
      "\n",
      "\n",
      "Model Summary: \n"
     ]
    },
    {
     "data": {
      "text/html": [
       "<div>\n",
       "<style scoped>\n",
       "    .dataframe tbody tr th:only-of-type {\n",
       "        vertical-align: middle;\n",
       "    }\n",
       "\n",
       "    .dataframe tbody tr th {\n",
       "        vertical-align: top;\n",
       "    }\n",
       "\n",
       "    .dataframe thead th {\n",
       "        text-align: right;\n",
       "    }\n",
       "</style>\n",
       "<table border=\"1\" class=\"dataframe\">\n",
       "  <thead>\n",
       "    <tr style=\"text-align: right;\">\n",
       "      <th></th>\n",
       "      <th></th>\n",
       "      <th>number_of_trees</th>\n",
       "      <th>number_of_internal_trees</th>\n",
       "      <th>model_size_in_bytes</th>\n",
       "      <th>min_depth</th>\n",
       "      <th>max_depth</th>\n",
       "      <th>mean_depth</th>\n",
       "      <th>min_leaves</th>\n",
       "      <th>max_leaves</th>\n",
       "      <th>mean_leaves</th>\n",
       "    </tr>\n",
       "  </thead>\n",
       "  <tbody>\n",
       "    <tr>\n",
       "      <th>0</th>\n",
       "      <td></td>\n",
       "      <td>43.0</td>\n",
       "      <td>129.0</td>\n",
       "      <td>23481.0</td>\n",
       "      <td>1.0</td>\n",
       "      <td>5.0</td>\n",
       "      <td>4.906977</td>\n",
       "      <td>2.0</td>\n",
       "      <td>12.0</td>\n",
       "      <td>9.868217</td>\n",
       "    </tr>\n",
       "  </tbody>\n",
       "</table>\n",
       "</div>"
      ],
      "text/plain": [
       "     number_of_trees  number_of_internal_trees  model_size_in_bytes  \\\n",
       "0               43.0                     129.0              23481.0   \n",
       "\n",
       "   min_depth  max_depth  mean_depth  min_leaves  max_leaves  mean_leaves  \n",
       "0        1.0        5.0    4.906977         2.0        12.0     9.868217  "
      ]
     },
     "metadata": {},
     "output_type": "display_data"
    },
    {
     "name": "stdout",
     "output_type": "stream",
     "text": [
      "\n",
      "\n",
      "ModelMetricsMultinomial: gbm\n",
      "** Reported on train data. **\n",
      "\n",
      "MSE: 0.016995018106015954\n",
      "RMSE: 0.13036494201285848\n",
      "LogLoss: 0.09624239211447781\n",
      "Mean Per-Class Error: 0.02\n",
      "AUC: 0.9997333333333334\n",
      "AUCPR: 0.999474389957814\n",
      "\n",
      "Multinomial AUC values: \n"
     ]
    },
    {
     "data": {
      "text/html": [
       "<div>\n",
       "<style scoped>\n",
       "    .dataframe tbody tr th:only-of-type {\n",
       "        vertical-align: middle;\n",
       "    }\n",
       "\n",
       "    .dataframe tbody tr th {\n",
       "        vertical-align: top;\n",
       "    }\n",
       "\n",
       "    .dataframe thead th {\n",
       "        text-align: right;\n",
       "    }\n",
       "</style>\n",
       "<table border=\"1\" class=\"dataframe\">\n",
       "  <thead>\n",
       "    <tr style=\"text-align: right;\">\n",
       "      <th></th>\n",
       "      <th>type</th>\n",
       "      <th>first_class_domain</th>\n",
       "      <th>second_class_domain</th>\n",
       "      <th>auc</th>\n",
       "    </tr>\n",
       "  </thead>\n",
       "  <tbody>\n",
       "    <tr>\n",
       "      <th>0</th>\n",
       "      <td>setosa vs Rest</td>\n",
       "      <td>setosa</td>\n",
       "      <td>None</td>\n",
       "      <td>1.000000</td>\n",
       "    </tr>\n",
       "    <tr>\n",
       "      <th>1</th>\n",
       "      <td>versicolor vs Rest</td>\n",
       "      <td>versicolor</td>\n",
       "      <td>None</td>\n",
       "      <td>0.999400</td>\n",
       "    </tr>\n",
       "    <tr>\n",
       "      <th>2</th>\n",
       "      <td>virginica vs Rest</td>\n",
       "      <td>virginica</td>\n",
       "      <td>None</td>\n",
       "      <td>0.999800</td>\n",
       "    </tr>\n",
       "    <tr>\n",
       "      <th>3</th>\n",
       "      <td>Macro OVR</td>\n",
       "      <td>None</td>\n",
       "      <td>None</td>\n",
       "      <td>0.999733</td>\n",
       "    </tr>\n",
       "    <tr>\n",
       "      <th>4</th>\n",
       "      <td>Weighted OVR</td>\n",
       "      <td>None</td>\n",
       "      <td>None</td>\n",
       "      <td>0.999733</td>\n",
       "    </tr>\n",
       "    <tr>\n",
       "      <th>5</th>\n",
       "      <td>Class setosa vs. versicolor</td>\n",
       "      <td>setosa</td>\n",
       "      <td>versicolor</td>\n",
       "      <td>1.000000</td>\n",
       "    </tr>\n",
       "    <tr>\n",
       "      <th>6</th>\n",
       "      <td>Class setosa vs. virginica</td>\n",
       "      <td>setosa</td>\n",
       "      <td>virginica</td>\n",
       "      <td>1.000000</td>\n",
       "    </tr>\n",
       "    <tr>\n",
       "      <th>7</th>\n",
       "      <td>Class versicolor vs. virginica</td>\n",
       "      <td>versicolor</td>\n",
       "      <td>virginica</td>\n",
       "      <td>0.999200</td>\n",
       "    </tr>\n",
       "    <tr>\n",
       "      <th>8</th>\n",
       "      <td>Macro OVO</td>\n",
       "      <td>None</td>\n",
       "      <td>None</td>\n",
       "      <td>0.999733</td>\n",
       "    </tr>\n",
       "    <tr>\n",
       "      <th>9</th>\n",
       "      <td>Weighted OVO</td>\n",
       "      <td>None</td>\n",
       "      <td>None</td>\n",
       "      <td>0.999733</td>\n",
       "    </tr>\n",
       "  </tbody>\n",
       "</table>\n",
       "</div>"
      ],
      "text/plain": [
       "                             type first_class_domain second_class_domain  \\\n",
       "0                  setosa vs Rest             setosa                None   \n",
       "1              versicolor vs Rest         versicolor                None   \n",
       "2               virginica vs Rest          virginica                None   \n",
       "3                       Macro OVR               None                None   \n",
       "4                    Weighted OVR               None                None   \n",
       "5     Class setosa vs. versicolor             setosa          versicolor   \n",
       "6      Class setosa vs. virginica             setosa           virginica   \n",
       "7  Class versicolor vs. virginica         versicolor           virginica   \n",
       "8                       Macro OVO               None                None   \n",
       "9                    Weighted OVO               None                None   \n",
       "\n",
       "        auc  \n",
       "0  1.000000  \n",
       "1  0.999400  \n",
       "2  0.999800  \n",
       "3  0.999733  \n",
       "4  0.999733  \n",
       "5  1.000000  \n",
       "6  1.000000  \n",
       "7  0.999200  \n",
       "8  0.999733  \n",
       "9  0.999733  "
      ]
     },
     "metadata": {},
     "output_type": "display_data"
    },
    {
     "name": "stdout",
     "output_type": "stream",
     "text": [
      "\n",
      "Multinomial auc_pr values: \n"
     ]
    },
    {
     "data": {
      "text/html": [
       "<div>\n",
       "<style scoped>\n",
       "    .dataframe tbody tr th:only-of-type {\n",
       "        vertical-align: middle;\n",
       "    }\n",
       "\n",
       "    .dataframe tbody tr th {\n",
       "        vertical-align: top;\n",
       "    }\n",
       "\n",
       "    .dataframe thead th {\n",
       "        text-align: right;\n",
       "    }\n",
       "</style>\n",
       "<table border=\"1\" class=\"dataframe\">\n",
       "  <thead>\n",
       "    <tr style=\"text-align: right;\">\n",
       "      <th></th>\n",
       "      <th>type</th>\n",
       "      <th>first_class_domain</th>\n",
       "      <th>second_class_domain</th>\n",
       "      <th>auc_pr</th>\n",
       "    </tr>\n",
       "  </thead>\n",
       "  <tbody>\n",
       "    <tr>\n",
       "      <th>0</th>\n",
       "      <td>setosa vs Rest</td>\n",
       "      <td>setosa</td>\n",
       "      <td>None</td>\n",
       "      <td>1.000000</td>\n",
       "    </tr>\n",
       "    <tr>\n",
       "      <th>1</th>\n",
       "      <td>versicolor vs Rest</td>\n",
       "      <td>versicolor</td>\n",
       "      <td>None</td>\n",
       "      <td>0.998819</td>\n",
       "    </tr>\n",
       "    <tr>\n",
       "      <th>2</th>\n",
       "      <td>virginica vs Rest</td>\n",
       "      <td>virginica</td>\n",
       "      <td>None</td>\n",
       "      <td>0.999604</td>\n",
       "    </tr>\n",
       "    <tr>\n",
       "      <th>3</th>\n",
       "      <td>Macro OVR</td>\n",
       "      <td>None</td>\n",
       "      <td>None</td>\n",
       "      <td>0.999474</td>\n",
       "    </tr>\n",
       "    <tr>\n",
       "      <th>4</th>\n",
       "      <td>Weighted OVR</td>\n",
       "      <td>None</td>\n",
       "      <td>None</td>\n",
       "      <td>0.999474</td>\n",
       "    </tr>\n",
       "    <tr>\n",
       "      <th>5</th>\n",
       "      <td>Class setosa vs. versicolor</td>\n",
       "      <td>setosa</td>\n",
       "      <td>versicolor</td>\n",
       "      <td>1.000000</td>\n",
       "    </tr>\n",
       "    <tr>\n",
       "      <th>6</th>\n",
       "      <td>Class setosa vs. virginica</td>\n",
       "      <td>setosa</td>\n",
       "      <td>virginica</td>\n",
       "      <td>1.000000</td>\n",
       "    </tr>\n",
       "    <tr>\n",
       "      <th>7</th>\n",
       "      <td>Class versicolor vs. virginica</td>\n",
       "      <td>versicolor</td>\n",
       "      <td>virginica</td>\n",
       "      <td>0.999212</td>\n",
       "    </tr>\n",
       "    <tr>\n",
       "      <th>8</th>\n",
       "      <td>Macro OVO</td>\n",
       "      <td>None</td>\n",
       "      <td>None</td>\n",
       "      <td>0.999737</td>\n",
       "    </tr>\n",
       "    <tr>\n",
       "      <th>9</th>\n",
       "      <td>Weighted OVO</td>\n",
       "      <td>None</td>\n",
       "      <td>None</td>\n",
       "      <td>0.999737</td>\n",
       "    </tr>\n",
       "  </tbody>\n",
       "</table>\n",
       "</div>"
      ],
      "text/plain": [
       "                             type first_class_domain second_class_domain  \\\n",
       "0                  setosa vs Rest             setosa                None   \n",
       "1              versicolor vs Rest         versicolor                None   \n",
       "2               virginica vs Rest          virginica                None   \n",
       "3                       Macro OVR               None                None   \n",
       "4                    Weighted OVR               None                None   \n",
       "5     Class setosa vs. versicolor             setosa          versicolor   \n",
       "6      Class setosa vs. virginica             setosa           virginica   \n",
       "7  Class versicolor vs. virginica         versicolor           virginica   \n",
       "8                       Macro OVO               None                None   \n",
       "9                    Weighted OVO               None                None   \n",
       "\n",
       "     auc_pr  \n",
       "0  1.000000  \n",
       "1  0.998819  \n",
       "2  0.999604  \n",
       "3  0.999474  \n",
       "4  0.999474  \n",
       "5  1.000000  \n",
       "6  1.000000  \n",
       "7  0.999212  \n",
       "8  0.999737  \n",
       "9  0.999737  "
      ]
     },
     "metadata": {},
     "output_type": "display_data"
    },
    {
     "name": "stdout",
     "output_type": "stream",
     "text": [
      "\n",
      "Confusion Matrix: Row labels: Actual class; Column labels: Predicted class\n"
     ]
    },
    {
     "data": {
      "text/html": [
       "<div>\n",
       "<style scoped>\n",
       "    .dataframe tbody tr th:only-of-type {\n",
       "        vertical-align: middle;\n",
       "    }\n",
       "\n",
       "    .dataframe tbody tr th {\n",
       "        vertical-align: top;\n",
       "    }\n",
       "\n",
       "    .dataframe thead th {\n",
       "        text-align: right;\n",
       "    }\n",
       "</style>\n",
       "<table border=\"1\" class=\"dataframe\">\n",
       "  <thead>\n",
       "    <tr style=\"text-align: right;\">\n",
       "      <th></th>\n",
       "      <th>setosa</th>\n",
       "      <th>versicolor</th>\n",
       "      <th>virginica</th>\n",
       "      <th>Error</th>\n",
       "      <th>Rate</th>\n",
       "    </tr>\n",
       "  </thead>\n",
       "  <tbody>\n",
       "    <tr>\n",
       "      <th>0</th>\n",
       "      <td>50.0</td>\n",
       "      <td>0.0</td>\n",
       "      <td>0.0</td>\n",
       "      <td>0.00</td>\n",
       "      <td>0 / 50</td>\n",
       "    </tr>\n",
       "    <tr>\n",
       "      <th>1</th>\n",
       "      <td>0.0</td>\n",
       "      <td>47.0</td>\n",
       "      <td>3.0</td>\n",
       "      <td>0.06</td>\n",
       "      <td>3 / 50</td>\n",
       "    </tr>\n",
       "    <tr>\n",
       "      <th>2</th>\n",
       "      <td>0.0</td>\n",
       "      <td>0.0</td>\n",
       "      <td>50.0</td>\n",
       "      <td>0.00</td>\n",
       "      <td>0 / 50</td>\n",
       "    </tr>\n",
       "    <tr>\n",
       "      <th>3</th>\n",
       "      <td>50.0</td>\n",
       "      <td>47.0</td>\n",
       "      <td>53.0</td>\n",
       "      <td>0.02</td>\n",
       "      <td>3 / 150</td>\n",
       "    </tr>\n",
       "  </tbody>\n",
       "</table>\n",
       "</div>"
      ],
      "text/plain": [
       "   setosa  versicolor  virginica  Error     Rate\n",
       "0    50.0         0.0        0.0   0.00   0 / 50\n",
       "1     0.0        47.0        3.0   0.06   3 / 50\n",
       "2     0.0         0.0       50.0   0.00   0 / 50\n",
       "3    50.0        47.0       53.0   0.02  3 / 150"
      ]
     },
     "metadata": {},
     "output_type": "display_data"
    },
    {
     "name": "stdout",
     "output_type": "stream",
     "text": [
      "\n",
      "Top-3 Hit Ratios: \n"
     ]
    },
    {
     "data": {
      "text/html": [
       "<div>\n",
       "<style scoped>\n",
       "    .dataframe tbody tr th:only-of-type {\n",
       "        vertical-align: middle;\n",
       "    }\n",
       "\n",
       "    .dataframe tbody tr th {\n",
       "        vertical-align: top;\n",
       "    }\n",
       "\n",
       "    .dataframe thead th {\n",
       "        text-align: right;\n",
       "    }\n",
       "</style>\n",
       "<table border=\"1\" class=\"dataframe\">\n",
       "  <thead>\n",
       "    <tr style=\"text-align: right;\">\n",
       "      <th></th>\n",
       "      <th>k</th>\n",
       "      <th>hit_ratio</th>\n",
       "    </tr>\n",
       "  </thead>\n",
       "  <tbody>\n",
       "    <tr>\n",
       "      <th>0</th>\n",
       "      <td>1</td>\n",
       "      <td>0.98</td>\n",
       "    </tr>\n",
       "    <tr>\n",
       "      <th>1</th>\n",
       "      <td>2</td>\n",
       "      <td>1.00</td>\n",
       "    </tr>\n",
       "    <tr>\n",
       "      <th>2</th>\n",
       "      <td>3</td>\n",
       "      <td>1.00</td>\n",
       "    </tr>\n",
       "  </tbody>\n",
       "</table>\n",
       "</div>"
      ],
      "text/plain": [
       "   k  hit_ratio\n",
       "0  1       0.98\n",
       "1  2       1.00\n",
       "2  3       1.00"
      ]
     },
     "metadata": {},
     "output_type": "display_data"
    },
    {
     "name": "stdout",
     "output_type": "stream",
     "text": [
      "\n",
      "Scoring History: \n"
     ]
    },
    {
     "data": {
      "text/html": [
       "<div>\n",
       "<style scoped>\n",
       "    .dataframe tbody tr th:only-of-type {\n",
       "        vertical-align: middle;\n",
       "    }\n",
       "\n",
       "    .dataframe tbody tr th {\n",
       "        vertical-align: top;\n",
       "    }\n",
       "\n",
       "    .dataframe thead th {\n",
       "        text-align: right;\n",
       "    }\n",
       "</style>\n",
       "<table border=\"1\" class=\"dataframe\">\n",
       "  <thead>\n",
       "    <tr style=\"text-align: right;\">\n",
       "      <th></th>\n",
       "      <th></th>\n",
       "      <th>timestamp</th>\n",
       "      <th>duration</th>\n",
       "      <th>number_of_trees</th>\n",
       "      <th>training_rmse</th>\n",
       "      <th>training_logloss</th>\n",
       "      <th>training_classification_error</th>\n",
       "      <th>training_auc</th>\n",
       "      <th>training_pr_auc</th>\n",
       "    </tr>\n",
       "  </thead>\n",
       "  <tbody>\n",
       "    <tr>\n",
       "      <th>0</th>\n",
       "      <td></td>\n",
       "      <td>2023-01-23 12:02:17</td>\n",
       "      <td>0.005 sec</td>\n",
       "      <td>0.0</td>\n",
       "      <td>0.666667</td>\n",
       "      <td>1.098612</td>\n",
       "      <td>0.640000</td>\n",
       "      <td>0.500000</td>\n",
       "      <td>0.333333</td>\n",
       "    </tr>\n",
       "    <tr>\n",
       "      <th>1</th>\n",
       "      <td></td>\n",
       "      <td>2023-01-23 12:02:17</td>\n",
       "      <td>0.091 sec</td>\n",
       "      <td>1.0</td>\n",
       "      <td>0.635829</td>\n",
       "      <td>1.010264</td>\n",
       "      <td>0.040000</td>\n",
       "      <td>0.994000</td>\n",
       "      <td>0.988494</td>\n",
       "    </tr>\n",
       "    <tr>\n",
       "      <th>2</th>\n",
       "      <td></td>\n",
       "      <td>2023-01-23 12:02:17</td>\n",
       "      <td>0.105 sec</td>\n",
       "      <td>2.0</td>\n",
       "      <td>0.606043</td>\n",
       "      <td>0.931892</td>\n",
       "      <td>0.040000</td>\n",
       "      <td>0.995333</td>\n",
       "      <td>0.990962</td>\n",
       "    </tr>\n",
       "    <tr>\n",
       "      <th>3</th>\n",
       "      <td></td>\n",
       "      <td>2023-01-23 12:02:17</td>\n",
       "      <td>0.129 sec</td>\n",
       "      <td>3.0</td>\n",
       "      <td>0.577461</td>\n",
       "      <td>0.862121</td>\n",
       "      <td>0.040000</td>\n",
       "      <td>0.995467</td>\n",
       "      <td>0.991218</td>\n",
       "    </tr>\n",
       "    <tr>\n",
       "      <th>4</th>\n",
       "      <td></td>\n",
       "      <td>2023-01-23 12:02:17</td>\n",
       "      <td>0.139 sec</td>\n",
       "      <td>4.0</td>\n",
       "      <td>0.549999</td>\n",
       "      <td>0.799366</td>\n",
       "      <td>0.046667</td>\n",
       "      <td>0.996067</td>\n",
       "      <td>0.992812</td>\n",
       "    </tr>\n",
       "    <tr>\n",
       "      <th>5</th>\n",
       "      <td></td>\n",
       "      <td>2023-01-23 12:02:17</td>\n",
       "      <td>0.155 sec</td>\n",
       "      <td>5.0</td>\n",
       "      <td>0.524012</td>\n",
       "      <td>0.743388</td>\n",
       "      <td>0.040000</td>\n",
       "      <td>0.996267</td>\n",
       "      <td>0.993174</td>\n",
       "    </tr>\n",
       "    <tr>\n",
       "      <th>6</th>\n",
       "      <td></td>\n",
       "      <td>2023-01-23 12:02:17</td>\n",
       "      <td>0.169 sec</td>\n",
       "      <td>6.0</td>\n",
       "      <td>0.499152</td>\n",
       "      <td>0.692221</td>\n",
       "      <td>0.046667</td>\n",
       "      <td>0.998067</td>\n",
       "      <td>0.996238</td>\n",
       "    </tr>\n",
       "    <tr>\n",
       "      <th>7</th>\n",
       "      <td></td>\n",
       "      <td>2023-01-23 12:02:17</td>\n",
       "      <td>0.172 sec</td>\n",
       "      <td>7.0</td>\n",
       "      <td>0.475336</td>\n",
       "      <td>0.645615</td>\n",
       "      <td>0.046667</td>\n",
       "      <td>0.998267</td>\n",
       "      <td>0.996673</td>\n",
       "    </tr>\n",
       "    <tr>\n",
       "      <th>8</th>\n",
       "      <td></td>\n",
       "      <td>2023-01-23 12:02:17</td>\n",
       "      <td>0.191 sec</td>\n",
       "      <td>8.0</td>\n",
       "      <td>0.452873</td>\n",
       "      <td>0.603229</td>\n",
       "      <td>0.046667</td>\n",
       "      <td>0.997867</td>\n",
       "      <td>0.995898</td>\n",
       "    </tr>\n",
       "    <tr>\n",
       "      <th>9</th>\n",
       "      <td></td>\n",
       "      <td>2023-01-23 12:02:17</td>\n",
       "      <td>0.205 sec</td>\n",
       "      <td>9.0</td>\n",
       "      <td>0.431495</td>\n",
       "      <td>0.564478</td>\n",
       "      <td>0.046667</td>\n",
       "      <td>0.998067</td>\n",
       "      <td>0.996260</td>\n",
       "    </tr>\n",
       "    <tr>\n",
       "      <th>10</th>\n",
       "      <td></td>\n",
       "      <td>2023-01-23 12:02:17</td>\n",
       "      <td>0.224 sec</td>\n",
       "      <td>10.0</td>\n",
       "      <td>0.411341</td>\n",
       "      <td>0.529024</td>\n",
       "      <td>0.046667</td>\n",
       "      <td>0.997867</td>\n",
       "      <td>0.995898</td>\n",
       "    </tr>\n",
       "    <tr>\n",
       "      <th>11</th>\n",
       "      <td></td>\n",
       "      <td>2023-01-23 12:02:17</td>\n",
       "      <td>0.238 sec</td>\n",
       "      <td>11.0</td>\n",
       "      <td>0.392297</td>\n",
       "      <td>0.496371</td>\n",
       "      <td>0.033333</td>\n",
       "      <td>0.997867</td>\n",
       "      <td>0.995898</td>\n",
       "    </tr>\n",
       "    <tr>\n",
       "      <th>12</th>\n",
       "      <td></td>\n",
       "      <td>2023-01-23 12:02:17</td>\n",
       "      <td>0.254 sec</td>\n",
       "      <td>12.0</td>\n",
       "      <td>0.374021</td>\n",
       "      <td>0.465880</td>\n",
       "      <td>0.046667</td>\n",
       "      <td>0.997867</td>\n",
       "      <td>0.995898</td>\n",
       "    </tr>\n",
       "    <tr>\n",
       "      <th>13</th>\n",
       "      <td></td>\n",
       "      <td>2023-01-23 12:02:17</td>\n",
       "      <td>0.266 sec</td>\n",
       "      <td>13.0</td>\n",
       "      <td>0.357074</td>\n",
       "      <td>0.438235</td>\n",
       "      <td>0.033333</td>\n",
       "      <td>0.998000</td>\n",
       "      <td>0.996141</td>\n",
       "    </tr>\n",
       "    <tr>\n",
       "      <th>14</th>\n",
       "      <td></td>\n",
       "      <td>2023-01-23 12:02:17</td>\n",
       "      <td>0.271 sec</td>\n",
       "      <td>14.0</td>\n",
       "      <td>0.341073</td>\n",
       "      <td>0.412534</td>\n",
       "      <td>0.033333</td>\n",
       "      <td>0.998267</td>\n",
       "      <td>0.996643</td>\n",
       "    </tr>\n",
       "    <tr>\n",
       "      <th>15</th>\n",
       "      <td></td>\n",
       "      <td>2023-01-23 12:02:17</td>\n",
       "      <td>0.298 sec</td>\n",
       "      <td>15.0</td>\n",
       "      <td>0.325911</td>\n",
       "      <td>0.388677</td>\n",
       "      <td>0.033333</td>\n",
       "      <td>0.998267</td>\n",
       "      <td>0.996643</td>\n",
       "    </tr>\n",
       "    <tr>\n",
       "      <th>16</th>\n",
       "      <td></td>\n",
       "      <td>2023-01-23 12:02:17</td>\n",
       "      <td>0.304 sec</td>\n",
       "      <td>16.0</td>\n",
       "      <td>0.311723</td>\n",
       "      <td>0.366590</td>\n",
       "      <td>0.033333</td>\n",
       "      <td>0.998267</td>\n",
       "      <td>0.996643</td>\n",
       "    </tr>\n",
       "    <tr>\n",
       "      <th>17</th>\n",
       "      <td></td>\n",
       "      <td>2023-01-23 12:02:17</td>\n",
       "      <td>0.304 sec</td>\n",
       "      <td>17.0</td>\n",
       "      <td>0.298237</td>\n",
       "      <td>0.346028</td>\n",
       "      <td>0.033333</td>\n",
       "      <td>0.998333</td>\n",
       "      <td>0.996757</td>\n",
       "    </tr>\n",
       "    <tr>\n",
       "      <th>18</th>\n",
       "      <td></td>\n",
       "      <td>2023-01-23 12:02:17</td>\n",
       "      <td>0.334 sec</td>\n",
       "      <td>18.0</td>\n",
       "      <td>0.285728</td>\n",
       "      <td>0.326971</td>\n",
       "      <td>0.033333</td>\n",
       "      <td>0.998333</td>\n",
       "      <td>0.996757</td>\n",
       "    </tr>\n",
       "    <tr>\n",
       "      <th>19</th>\n",
       "      <td></td>\n",
       "      <td>2023-01-23 12:02:17</td>\n",
       "      <td>0.338 sec</td>\n",
       "      <td>19.0</td>\n",
       "      <td>0.273943</td>\n",
       "      <td>0.309110</td>\n",
       "      <td>0.033333</td>\n",
       "      <td>0.998467</td>\n",
       "      <td>0.997017</td>\n",
       "    </tr>\n",
       "  </tbody>\n",
       "</table>\n",
       "</div>"
      ],
      "text/plain": [
       "                timestamp    duration  number_of_trees  training_rmse  \\\n",
       "0     2023-01-23 12:02:17   0.005 sec              0.0       0.666667   \n",
       "1     2023-01-23 12:02:17   0.091 sec              1.0       0.635829   \n",
       "2     2023-01-23 12:02:17   0.105 sec              2.0       0.606043   \n",
       "3     2023-01-23 12:02:17   0.129 sec              3.0       0.577461   \n",
       "4     2023-01-23 12:02:17   0.139 sec              4.0       0.549999   \n",
       "5     2023-01-23 12:02:17   0.155 sec              5.0       0.524012   \n",
       "6     2023-01-23 12:02:17   0.169 sec              6.0       0.499152   \n",
       "7     2023-01-23 12:02:17   0.172 sec              7.0       0.475336   \n",
       "8     2023-01-23 12:02:17   0.191 sec              8.0       0.452873   \n",
       "9     2023-01-23 12:02:17   0.205 sec              9.0       0.431495   \n",
       "10    2023-01-23 12:02:17   0.224 sec             10.0       0.411341   \n",
       "11    2023-01-23 12:02:17   0.238 sec             11.0       0.392297   \n",
       "12    2023-01-23 12:02:17   0.254 sec             12.0       0.374021   \n",
       "13    2023-01-23 12:02:17   0.266 sec             13.0       0.357074   \n",
       "14    2023-01-23 12:02:17   0.271 sec             14.0       0.341073   \n",
       "15    2023-01-23 12:02:17   0.298 sec             15.0       0.325911   \n",
       "16    2023-01-23 12:02:17   0.304 sec             16.0       0.311723   \n",
       "17    2023-01-23 12:02:17   0.304 sec             17.0       0.298237   \n",
       "18    2023-01-23 12:02:17   0.334 sec             18.0       0.285728   \n",
       "19    2023-01-23 12:02:17   0.338 sec             19.0       0.273943   \n",
       "\n",
       "    training_logloss  training_classification_error  training_auc  \\\n",
       "0           1.098612                       0.640000      0.500000   \n",
       "1           1.010264                       0.040000      0.994000   \n",
       "2           0.931892                       0.040000      0.995333   \n",
       "3           0.862121                       0.040000      0.995467   \n",
       "4           0.799366                       0.046667      0.996067   \n",
       "5           0.743388                       0.040000      0.996267   \n",
       "6           0.692221                       0.046667      0.998067   \n",
       "7           0.645615                       0.046667      0.998267   \n",
       "8           0.603229                       0.046667      0.997867   \n",
       "9           0.564478                       0.046667      0.998067   \n",
       "10          0.529024                       0.046667      0.997867   \n",
       "11          0.496371                       0.033333      0.997867   \n",
       "12          0.465880                       0.046667      0.997867   \n",
       "13          0.438235                       0.033333      0.998000   \n",
       "14          0.412534                       0.033333      0.998267   \n",
       "15          0.388677                       0.033333      0.998267   \n",
       "16          0.366590                       0.033333      0.998267   \n",
       "17          0.346028                       0.033333      0.998333   \n",
       "18          0.326971                       0.033333      0.998333   \n",
       "19          0.309110                       0.033333      0.998467   \n",
       "\n",
       "    training_pr_auc  \n",
       "0          0.333333  \n",
       "1          0.988494  \n",
       "2          0.990962  \n",
       "3          0.991218  \n",
       "4          0.992812  \n",
       "5          0.993174  \n",
       "6          0.996238  \n",
       "7          0.996673  \n",
       "8          0.995898  \n",
       "9          0.996260  \n",
       "10         0.995898  \n",
       "11         0.995898  \n",
       "12         0.995898  \n",
       "13         0.996141  \n",
       "14         0.996643  \n",
       "15         0.996643  \n",
       "16         0.996643  \n",
       "17         0.996757  \n",
       "18         0.996757  \n",
       "19         0.997017  "
      ]
     },
     "metadata": {},
     "output_type": "display_data"
    },
    {
     "name": "stdout",
     "output_type": "stream",
     "text": [
      "\n",
      "See the whole table with table.as_data_frame()\n",
      "\n",
      "Variable Importances: \n"
     ]
    },
    {
     "data": {
      "text/html": [
       "<div>\n",
       "<style scoped>\n",
       "    .dataframe tbody tr th:only-of-type {\n",
       "        vertical-align: middle;\n",
       "    }\n",
       "\n",
       "    .dataframe tbody tr th {\n",
       "        vertical-align: top;\n",
       "    }\n",
       "\n",
       "    .dataframe thead th {\n",
       "        text-align: right;\n",
       "    }\n",
       "</style>\n",
       "<table border=\"1\" class=\"dataframe\">\n",
       "  <thead>\n",
       "    <tr style=\"text-align: right;\">\n",
       "      <th></th>\n",
       "      <th>variable</th>\n",
       "      <th>relative_importance</th>\n",
       "      <th>scaled_importance</th>\n",
       "      <th>percentage</th>\n",
       "    </tr>\n",
       "  </thead>\n",
       "  <tbody>\n",
       "    <tr>\n",
       "      <th>0</th>\n",
       "      <td>petal_width_cm</td>\n",
       "      <td>520.333557</td>\n",
       "      <td>1.000000</td>\n",
       "      <td>0.594747</td>\n",
       "    </tr>\n",
       "    <tr>\n",
       "      <th>1</th>\n",
       "      <td>petal_length_cm</td>\n",
       "      <td>348.451599</td>\n",
       "      <td>0.669670</td>\n",
       "      <td>0.398284</td>\n",
       "    </tr>\n",
       "    <tr>\n",
       "      <th>2</th>\n",
       "      <td>sepal_width_cm</td>\n",
       "      <td>4.258981</td>\n",
       "      <td>0.008185</td>\n",
       "      <td>0.004868</td>\n",
       "    </tr>\n",
       "    <tr>\n",
       "      <th>3</th>\n",
       "      <td>sepal_length_cm</td>\n",
       "      <td>1.838512</td>\n",
       "      <td>0.003533</td>\n",
       "      <td>0.002101</td>\n",
       "    </tr>\n",
       "  </tbody>\n",
       "</table>\n",
       "</div>"
      ],
      "text/plain": [
       "          variable  relative_importance  scaled_importance  percentage\n",
       "0   petal_width_cm           520.333557           1.000000    0.594747\n",
       "1  petal_length_cm           348.451599           0.669670    0.398284\n",
       "2   sepal_width_cm             4.258981           0.008185    0.004868\n",
       "3  sepal_length_cm             1.838512           0.003533    0.002101"
      ]
     },
     "metadata": {},
     "output_type": "display_data"
    },
    {
     "data": {
      "text/plain": []
     },
     "execution_count": 108,
     "metadata": {},
     "output_type": "execute_result"
    }
   ],
   "source": [
    "# train model - do not split into test and train since the data size is tiny\n",
    "iris_gbm = H2OGradientBoostingEstimator(\n",
    "    distribution=\"multinomial\",\n",
    "    ntrees=500,\n",
    "    learn_rate=0.05,\n",
    "    stopping_rounds=20,\n",
    "    stopping_metric=\"AUC\",\n",
    "    auc_type=\"WEIGHTED_OVR\",\n",
    "    seed=715)\n",
    "iris_gbm.train(x = list(iris_df.columns[0:4]), y = \"species\", training_frame = iris_hdf)\n",
    "# iris_xgb.model_performance(valid).auc()"
   ]
  },
  {
   "cell_type": "code",
   "execution_count": 109,
   "metadata": {},
   "outputs": [
    {
     "data": {
      "text/html": [
       "<div>\n",
       "<style scoped>\n",
       "    .dataframe tbody tr th:only-of-type {\n",
       "        vertical-align: middle;\n",
       "    }\n",
       "\n",
       "    .dataframe tbody tr th {\n",
       "        vertical-align: top;\n",
       "    }\n",
       "\n",
       "    .dataframe thead th {\n",
       "        text-align: right;\n",
       "    }\n",
       "</style>\n",
       "<table border=\"1\" class=\"dataframe\">\n",
       "  <thead>\n",
       "    <tr style=\"text-align: right;\">\n",
       "      <th></th>\n",
       "      <th></th>\n",
       "      <th>timestamp</th>\n",
       "      <th>duration</th>\n",
       "      <th>number_of_trees</th>\n",
       "      <th>training_rmse</th>\n",
       "      <th>training_logloss</th>\n",
       "      <th>training_classification_error</th>\n",
       "      <th>training_auc</th>\n",
       "      <th>training_pr_auc</th>\n",
       "    </tr>\n",
       "  </thead>\n",
       "  <tbody>\n",
       "    <tr>\n",
       "      <th>0</th>\n",
       "      <td></td>\n",
       "      <td>2023-01-23 12:02:17</td>\n",
       "      <td>0.005 sec</td>\n",
       "      <td>0.0</td>\n",
       "      <td>0.666667</td>\n",
       "      <td>1.098612</td>\n",
       "      <td>0.640000</td>\n",
       "      <td>0.500000</td>\n",
       "      <td>0.333333</td>\n",
       "    </tr>\n",
       "    <tr>\n",
       "      <th>1</th>\n",
       "      <td></td>\n",
       "      <td>2023-01-23 12:02:17</td>\n",
       "      <td>0.091 sec</td>\n",
       "      <td>1.0</td>\n",
       "      <td>0.635829</td>\n",
       "      <td>1.010264</td>\n",
       "      <td>0.040000</td>\n",
       "      <td>0.994000</td>\n",
       "      <td>0.988494</td>\n",
       "    </tr>\n",
       "    <tr>\n",
       "      <th>2</th>\n",
       "      <td></td>\n",
       "      <td>2023-01-23 12:02:17</td>\n",
       "      <td>0.105 sec</td>\n",
       "      <td>2.0</td>\n",
       "      <td>0.606043</td>\n",
       "      <td>0.931892</td>\n",
       "      <td>0.040000</td>\n",
       "      <td>0.995333</td>\n",
       "      <td>0.990962</td>\n",
       "    </tr>\n",
       "    <tr>\n",
       "      <th>3</th>\n",
       "      <td></td>\n",
       "      <td>2023-01-23 12:02:17</td>\n",
       "      <td>0.129 sec</td>\n",
       "      <td>3.0</td>\n",
       "      <td>0.577461</td>\n",
       "      <td>0.862121</td>\n",
       "      <td>0.040000</td>\n",
       "      <td>0.995467</td>\n",
       "      <td>0.991218</td>\n",
       "    </tr>\n",
       "    <tr>\n",
       "      <th>4</th>\n",
       "      <td></td>\n",
       "      <td>2023-01-23 12:02:17</td>\n",
       "      <td>0.139 sec</td>\n",
       "      <td>4.0</td>\n",
       "      <td>0.549999</td>\n",
       "      <td>0.799366</td>\n",
       "      <td>0.046667</td>\n",
       "      <td>0.996067</td>\n",
       "      <td>0.992812</td>\n",
       "    </tr>\n",
       "    <tr>\n",
       "      <th>5</th>\n",
       "      <td></td>\n",
       "      <td>2023-01-23 12:02:17</td>\n",
       "      <td>0.155 sec</td>\n",
       "      <td>5.0</td>\n",
       "      <td>0.524012</td>\n",
       "      <td>0.743388</td>\n",
       "      <td>0.040000</td>\n",
       "      <td>0.996267</td>\n",
       "      <td>0.993174</td>\n",
       "    </tr>\n",
       "    <tr>\n",
       "      <th>6</th>\n",
       "      <td></td>\n",
       "      <td>2023-01-23 12:02:17</td>\n",
       "      <td>0.169 sec</td>\n",
       "      <td>6.0</td>\n",
       "      <td>0.499152</td>\n",
       "      <td>0.692221</td>\n",
       "      <td>0.046667</td>\n",
       "      <td>0.998067</td>\n",
       "      <td>0.996238</td>\n",
       "    </tr>\n",
       "    <tr>\n",
       "      <th>7</th>\n",
       "      <td></td>\n",
       "      <td>2023-01-23 12:02:17</td>\n",
       "      <td>0.172 sec</td>\n",
       "      <td>7.0</td>\n",
       "      <td>0.475336</td>\n",
       "      <td>0.645615</td>\n",
       "      <td>0.046667</td>\n",
       "      <td>0.998267</td>\n",
       "      <td>0.996673</td>\n",
       "    </tr>\n",
       "    <tr>\n",
       "      <th>8</th>\n",
       "      <td></td>\n",
       "      <td>2023-01-23 12:02:17</td>\n",
       "      <td>0.191 sec</td>\n",
       "      <td>8.0</td>\n",
       "      <td>0.452873</td>\n",
       "      <td>0.603229</td>\n",
       "      <td>0.046667</td>\n",
       "      <td>0.997867</td>\n",
       "      <td>0.995898</td>\n",
       "    </tr>\n",
       "    <tr>\n",
       "      <th>9</th>\n",
       "      <td></td>\n",
       "      <td>2023-01-23 12:02:17</td>\n",
       "      <td>0.205 sec</td>\n",
       "      <td>9.0</td>\n",
       "      <td>0.431495</td>\n",
       "      <td>0.564478</td>\n",
       "      <td>0.046667</td>\n",
       "      <td>0.998067</td>\n",
       "      <td>0.996260</td>\n",
       "    </tr>\n",
       "    <tr>\n",
       "      <th>10</th>\n",
       "      <td></td>\n",
       "      <td>2023-01-23 12:02:17</td>\n",
       "      <td>0.224 sec</td>\n",
       "      <td>10.0</td>\n",
       "      <td>0.411341</td>\n",
       "      <td>0.529024</td>\n",
       "      <td>0.046667</td>\n",
       "      <td>0.997867</td>\n",
       "      <td>0.995898</td>\n",
       "    </tr>\n",
       "    <tr>\n",
       "      <th>11</th>\n",
       "      <td></td>\n",
       "      <td>2023-01-23 12:02:17</td>\n",
       "      <td>0.238 sec</td>\n",
       "      <td>11.0</td>\n",
       "      <td>0.392297</td>\n",
       "      <td>0.496371</td>\n",
       "      <td>0.033333</td>\n",
       "      <td>0.997867</td>\n",
       "      <td>0.995898</td>\n",
       "    </tr>\n",
       "    <tr>\n",
       "      <th>12</th>\n",
       "      <td></td>\n",
       "      <td>2023-01-23 12:02:17</td>\n",
       "      <td>0.254 sec</td>\n",
       "      <td>12.0</td>\n",
       "      <td>0.374021</td>\n",
       "      <td>0.465880</td>\n",
       "      <td>0.046667</td>\n",
       "      <td>0.997867</td>\n",
       "      <td>0.995898</td>\n",
       "    </tr>\n",
       "    <tr>\n",
       "      <th>13</th>\n",
       "      <td></td>\n",
       "      <td>2023-01-23 12:02:17</td>\n",
       "      <td>0.266 sec</td>\n",
       "      <td>13.0</td>\n",
       "      <td>0.357074</td>\n",
       "      <td>0.438235</td>\n",
       "      <td>0.033333</td>\n",
       "      <td>0.998000</td>\n",
       "      <td>0.996141</td>\n",
       "    </tr>\n",
       "    <tr>\n",
       "      <th>14</th>\n",
       "      <td></td>\n",
       "      <td>2023-01-23 12:02:17</td>\n",
       "      <td>0.271 sec</td>\n",
       "      <td>14.0</td>\n",
       "      <td>0.341073</td>\n",
       "      <td>0.412534</td>\n",
       "      <td>0.033333</td>\n",
       "      <td>0.998267</td>\n",
       "      <td>0.996643</td>\n",
       "    </tr>\n",
       "    <tr>\n",
       "      <th>15</th>\n",
       "      <td></td>\n",
       "      <td>2023-01-23 12:02:17</td>\n",
       "      <td>0.298 sec</td>\n",
       "      <td>15.0</td>\n",
       "      <td>0.325911</td>\n",
       "      <td>0.388677</td>\n",
       "      <td>0.033333</td>\n",
       "      <td>0.998267</td>\n",
       "      <td>0.996643</td>\n",
       "    </tr>\n",
       "    <tr>\n",
       "      <th>16</th>\n",
       "      <td></td>\n",
       "      <td>2023-01-23 12:02:17</td>\n",
       "      <td>0.304 sec</td>\n",
       "      <td>16.0</td>\n",
       "      <td>0.311723</td>\n",
       "      <td>0.366590</td>\n",
       "      <td>0.033333</td>\n",
       "      <td>0.998267</td>\n",
       "      <td>0.996643</td>\n",
       "    </tr>\n",
       "    <tr>\n",
       "      <th>17</th>\n",
       "      <td></td>\n",
       "      <td>2023-01-23 12:02:17</td>\n",
       "      <td>0.304 sec</td>\n",
       "      <td>17.0</td>\n",
       "      <td>0.298237</td>\n",
       "      <td>0.346028</td>\n",
       "      <td>0.033333</td>\n",
       "      <td>0.998333</td>\n",
       "      <td>0.996757</td>\n",
       "    </tr>\n",
       "    <tr>\n",
       "      <th>18</th>\n",
       "      <td></td>\n",
       "      <td>2023-01-23 12:02:17</td>\n",
       "      <td>0.334 sec</td>\n",
       "      <td>18.0</td>\n",
       "      <td>0.285728</td>\n",
       "      <td>0.326971</td>\n",
       "      <td>0.033333</td>\n",
       "      <td>0.998333</td>\n",
       "      <td>0.996757</td>\n",
       "    </tr>\n",
       "    <tr>\n",
       "      <th>19</th>\n",
       "      <td></td>\n",
       "      <td>2023-01-23 12:02:17</td>\n",
       "      <td>0.338 sec</td>\n",
       "      <td>19.0</td>\n",
       "      <td>0.273943</td>\n",
       "      <td>0.309110</td>\n",
       "      <td>0.033333</td>\n",
       "      <td>0.998467</td>\n",
       "      <td>0.997017</td>\n",
       "    </tr>\n",
       "    <tr>\n",
       "      <th>20</th>\n",
       "      <td></td>\n",
       "      <td>2023-01-23 12:02:17</td>\n",
       "      <td>0.367 sec</td>\n",
       "      <td>20.0</td>\n",
       "      <td>0.262957</td>\n",
       "      <td>0.292620</td>\n",
       "      <td>0.033333</td>\n",
       "      <td>0.998533</td>\n",
       "      <td>0.997158</td>\n",
       "    </tr>\n",
       "    <tr>\n",
       "      <th>21</th>\n",
       "      <td></td>\n",
       "      <td>2023-01-23 12:02:17</td>\n",
       "      <td>0.374 sec</td>\n",
       "      <td>21.0</td>\n",
       "      <td>0.252274</td>\n",
       "      <td>0.276770</td>\n",
       "      <td>0.033333</td>\n",
       "      <td>0.998600</td>\n",
       "      <td>0.997273</td>\n",
       "    </tr>\n",
       "    <tr>\n",
       "      <th>22</th>\n",
       "      <td></td>\n",
       "      <td>2023-01-23 12:02:17</td>\n",
       "      <td>0.374 sec</td>\n",
       "      <td>22.0</td>\n",
       "      <td>0.242354</td>\n",
       "      <td>0.262089</td>\n",
       "      <td>0.033333</td>\n",
       "      <td>0.998533</td>\n",
       "      <td>0.997141</td>\n",
       "    </tr>\n",
       "    <tr>\n",
       "      <th>23</th>\n",
       "      <td></td>\n",
       "      <td>2023-01-23 12:02:17</td>\n",
       "      <td>0.399 sec</td>\n",
       "      <td>23.0</td>\n",
       "      <td>0.232880</td>\n",
       "      <td>0.248196</td>\n",
       "      <td>0.033333</td>\n",
       "      <td>0.998667</td>\n",
       "      <td>0.997398</td>\n",
       "    </tr>\n",
       "    <tr>\n",
       "      <th>24</th>\n",
       "      <td></td>\n",
       "      <td>2023-01-23 12:02:17</td>\n",
       "      <td>0.407 sec</td>\n",
       "      <td>24.0</td>\n",
       "      <td>0.223679</td>\n",
       "      <td>0.234858</td>\n",
       "      <td>0.033333</td>\n",
       "      <td>0.998667</td>\n",
       "      <td>0.997417</td>\n",
       "    </tr>\n",
       "    <tr>\n",
       "      <th>25</th>\n",
       "      <td></td>\n",
       "      <td>2023-01-23 12:02:17</td>\n",
       "      <td>0.407 sec</td>\n",
       "      <td>25.0</td>\n",
       "      <td>0.215482</td>\n",
       "      <td>0.222811</td>\n",
       "      <td>0.026667</td>\n",
       "      <td>0.998800</td>\n",
       "      <td>0.997665</td>\n",
       "    </tr>\n",
       "    <tr>\n",
       "      <th>26</th>\n",
       "      <td></td>\n",
       "      <td>2023-01-23 12:02:17</td>\n",
       "      <td>0.427 sec</td>\n",
       "      <td>26.0</td>\n",
       "      <td>0.207472</td>\n",
       "      <td>0.211202</td>\n",
       "      <td>0.033333</td>\n",
       "      <td>0.998867</td>\n",
       "      <td>0.997805</td>\n",
       "    </tr>\n",
       "    <tr>\n",
       "      <th>27</th>\n",
       "      <td></td>\n",
       "      <td>2023-01-23 12:02:17</td>\n",
       "      <td>0.438 sec</td>\n",
       "      <td>27.0</td>\n",
       "      <td>0.200366</td>\n",
       "      <td>0.200695</td>\n",
       "      <td>0.033333</td>\n",
       "      <td>0.998867</td>\n",
       "      <td>0.997805</td>\n",
       "    </tr>\n",
       "    <tr>\n",
       "      <th>28</th>\n",
       "      <td></td>\n",
       "      <td>2023-01-23 12:02:17</td>\n",
       "      <td>0.448 sec</td>\n",
       "      <td>28.0</td>\n",
       "      <td>0.193388</td>\n",
       "      <td>0.190537</td>\n",
       "      <td>0.033333</td>\n",
       "      <td>0.998933</td>\n",
       "      <td>0.997923</td>\n",
       "    </tr>\n",
       "    <tr>\n",
       "      <th>29</th>\n",
       "      <td></td>\n",
       "      <td>2023-01-23 12:02:17</td>\n",
       "      <td>0.463 sec</td>\n",
       "      <td>29.0</td>\n",
       "      <td>0.187518</td>\n",
       "      <td>0.181682</td>\n",
       "      <td>0.033333</td>\n",
       "      <td>0.998933</td>\n",
       "      <td>0.997923</td>\n",
       "    </tr>\n",
       "    <tr>\n",
       "      <th>30</th>\n",
       "      <td></td>\n",
       "      <td>2023-01-23 12:02:17</td>\n",
       "      <td>0.476 sec</td>\n",
       "      <td>30.0</td>\n",
       "      <td>0.181454</td>\n",
       "      <td>0.172780</td>\n",
       "      <td>0.033333</td>\n",
       "      <td>0.998933</td>\n",
       "      <td>0.997923</td>\n",
       "    </tr>\n",
       "    <tr>\n",
       "      <th>31</th>\n",
       "      <td></td>\n",
       "      <td>2023-01-23 12:02:17</td>\n",
       "      <td>0.484 sec</td>\n",
       "      <td>31.0</td>\n",
       "      <td>0.175803</td>\n",
       "      <td>0.164436</td>\n",
       "      <td>0.033333</td>\n",
       "      <td>0.998933</td>\n",
       "      <td>0.997923</td>\n",
       "    </tr>\n",
       "    <tr>\n",
       "      <th>32</th>\n",
       "      <td></td>\n",
       "      <td>2023-01-23 12:02:17</td>\n",
       "      <td>0.503 sec</td>\n",
       "      <td>32.0</td>\n",
       "      <td>0.170894</td>\n",
       "      <td>0.156895</td>\n",
       "      <td>0.033333</td>\n",
       "      <td>0.998933</td>\n",
       "      <td>0.997923</td>\n",
       "    </tr>\n",
       "    <tr>\n",
       "      <th>33</th>\n",
       "      <td></td>\n",
       "      <td>2023-01-23 12:02:17</td>\n",
       "      <td>0.517 sec</td>\n",
       "      <td>33.0</td>\n",
       "      <td>0.166039</td>\n",
       "      <td>0.149594</td>\n",
       "      <td>0.033333</td>\n",
       "      <td>0.998933</td>\n",
       "      <td>0.997923</td>\n",
       "    </tr>\n",
       "    <tr>\n",
       "      <th>34</th>\n",
       "      <td></td>\n",
       "      <td>2023-01-23 12:02:18</td>\n",
       "      <td>0.531 sec</td>\n",
       "      <td>34.0</td>\n",
       "      <td>0.161812</td>\n",
       "      <td>0.142955</td>\n",
       "      <td>0.033333</td>\n",
       "      <td>0.998933</td>\n",
       "      <td>0.997923</td>\n",
       "    </tr>\n",
       "    <tr>\n",
       "      <th>35</th>\n",
       "      <td></td>\n",
       "      <td>2023-01-23 12:02:18</td>\n",
       "      <td>0.548 sec</td>\n",
       "      <td>35.0</td>\n",
       "      <td>0.157640</td>\n",
       "      <td>0.136559</td>\n",
       "      <td>0.033333</td>\n",
       "      <td>0.998933</td>\n",
       "      <td>0.997923</td>\n",
       "    </tr>\n",
       "    <tr>\n",
       "      <th>36</th>\n",
       "      <td></td>\n",
       "      <td>2023-01-23 12:02:18</td>\n",
       "      <td>0.555 sec</td>\n",
       "      <td>36.0</td>\n",
       "      <td>0.153442</td>\n",
       "      <td>0.130324</td>\n",
       "      <td>0.026667</td>\n",
       "      <td>0.998933</td>\n",
       "      <td>0.997923</td>\n",
       "    </tr>\n",
       "    <tr>\n",
       "      <th>37</th>\n",
       "      <td></td>\n",
       "      <td>2023-01-23 12:02:18</td>\n",
       "      <td>0.578 sec</td>\n",
       "      <td>37.0</td>\n",
       "      <td>0.149237</td>\n",
       "      <td>0.124298</td>\n",
       "      <td>0.020000</td>\n",
       "      <td>0.999000</td>\n",
       "      <td>0.998055</td>\n",
       "    </tr>\n",
       "    <tr>\n",
       "      <th>38</th>\n",
       "      <td></td>\n",
       "      <td>2023-01-23 12:02:18</td>\n",
       "      <td>0.583 sec</td>\n",
       "      <td>38.0</td>\n",
       "      <td>0.146072</td>\n",
       "      <td>0.119241</td>\n",
       "      <td>0.020000</td>\n",
       "      <td>0.998933</td>\n",
       "      <td>0.997923</td>\n",
       "    </tr>\n",
       "    <tr>\n",
       "      <th>39</th>\n",
       "      <td></td>\n",
       "      <td>2023-01-23 12:02:18</td>\n",
       "      <td>0.608 sec</td>\n",
       "      <td>39.0</td>\n",
       "      <td>0.142421</td>\n",
       "      <td>0.113968</td>\n",
       "      <td>0.020000</td>\n",
       "      <td>0.999067</td>\n",
       "      <td>0.998179</td>\n",
       "    </tr>\n",
       "    <tr>\n",
       "      <th>40</th>\n",
       "      <td></td>\n",
       "      <td>2023-01-23 12:02:18</td>\n",
       "      <td>0.626 sec</td>\n",
       "      <td>40.0</td>\n",
       "      <td>0.139259</td>\n",
       "      <td>0.109170</td>\n",
       "      <td>0.020000</td>\n",
       "      <td>0.999267</td>\n",
       "      <td>0.998563</td>\n",
       "    </tr>\n",
       "    <tr>\n",
       "      <th>41</th>\n",
       "      <td></td>\n",
       "      <td>2023-01-23 12:02:18</td>\n",
       "      <td>0.640 sec</td>\n",
       "      <td>41.0</td>\n",
       "      <td>0.136069</td>\n",
       "      <td>0.104544</td>\n",
       "      <td>0.020000</td>\n",
       "      <td>0.999333</td>\n",
       "      <td>0.998692</td>\n",
       "    </tr>\n",
       "    <tr>\n",
       "      <th>42</th>\n",
       "      <td></td>\n",
       "      <td>2023-01-23 12:02:18</td>\n",
       "      <td>0.647 sec</td>\n",
       "      <td>42.0</td>\n",
       "      <td>0.133610</td>\n",
       "      <td>0.100561</td>\n",
       "      <td>0.020000</td>\n",
       "      <td>0.999467</td>\n",
       "      <td>0.998959</td>\n",
       "    </tr>\n",
       "    <tr>\n",
       "      <th>43</th>\n",
       "      <td></td>\n",
       "      <td>2023-01-23 12:02:18</td>\n",
       "      <td>0.670 sec</td>\n",
       "      <td>43.0</td>\n",
       "      <td>0.130365</td>\n",
       "      <td>0.096242</td>\n",
       "      <td>0.020000</td>\n",
       "      <td>0.999733</td>\n",
       "      <td>0.999474</td>\n",
       "    </tr>\n",
       "  </tbody>\n",
       "</table>\n",
       "</div>"
      ],
      "text/plain": [
       "                timestamp    duration  number_of_trees  training_rmse  \\\n",
       "0     2023-01-23 12:02:17   0.005 sec              0.0       0.666667   \n",
       "1     2023-01-23 12:02:17   0.091 sec              1.0       0.635829   \n",
       "2     2023-01-23 12:02:17   0.105 sec              2.0       0.606043   \n",
       "3     2023-01-23 12:02:17   0.129 sec              3.0       0.577461   \n",
       "4     2023-01-23 12:02:17   0.139 sec              4.0       0.549999   \n",
       "5     2023-01-23 12:02:17   0.155 sec              5.0       0.524012   \n",
       "6     2023-01-23 12:02:17   0.169 sec              6.0       0.499152   \n",
       "7     2023-01-23 12:02:17   0.172 sec              7.0       0.475336   \n",
       "8     2023-01-23 12:02:17   0.191 sec              8.0       0.452873   \n",
       "9     2023-01-23 12:02:17   0.205 sec              9.0       0.431495   \n",
       "10    2023-01-23 12:02:17   0.224 sec             10.0       0.411341   \n",
       "11    2023-01-23 12:02:17   0.238 sec             11.0       0.392297   \n",
       "12    2023-01-23 12:02:17   0.254 sec             12.0       0.374021   \n",
       "13    2023-01-23 12:02:17   0.266 sec             13.0       0.357074   \n",
       "14    2023-01-23 12:02:17   0.271 sec             14.0       0.341073   \n",
       "15    2023-01-23 12:02:17   0.298 sec             15.0       0.325911   \n",
       "16    2023-01-23 12:02:17   0.304 sec             16.0       0.311723   \n",
       "17    2023-01-23 12:02:17   0.304 sec             17.0       0.298237   \n",
       "18    2023-01-23 12:02:17   0.334 sec             18.0       0.285728   \n",
       "19    2023-01-23 12:02:17   0.338 sec             19.0       0.273943   \n",
       "20    2023-01-23 12:02:17   0.367 sec             20.0       0.262957   \n",
       "21    2023-01-23 12:02:17   0.374 sec             21.0       0.252274   \n",
       "22    2023-01-23 12:02:17   0.374 sec             22.0       0.242354   \n",
       "23    2023-01-23 12:02:17   0.399 sec             23.0       0.232880   \n",
       "24    2023-01-23 12:02:17   0.407 sec             24.0       0.223679   \n",
       "25    2023-01-23 12:02:17   0.407 sec             25.0       0.215482   \n",
       "26    2023-01-23 12:02:17   0.427 sec             26.0       0.207472   \n",
       "27    2023-01-23 12:02:17   0.438 sec             27.0       0.200366   \n",
       "28    2023-01-23 12:02:17   0.448 sec             28.0       0.193388   \n",
       "29    2023-01-23 12:02:17   0.463 sec             29.0       0.187518   \n",
       "30    2023-01-23 12:02:17   0.476 sec             30.0       0.181454   \n",
       "31    2023-01-23 12:02:17   0.484 sec             31.0       0.175803   \n",
       "32    2023-01-23 12:02:17   0.503 sec             32.0       0.170894   \n",
       "33    2023-01-23 12:02:17   0.517 sec             33.0       0.166039   \n",
       "34    2023-01-23 12:02:18   0.531 sec             34.0       0.161812   \n",
       "35    2023-01-23 12:02:18   0.548 sec             35.0       0.157640   \n",
       "36    2023-01-23 12:02:18   0.555 sec             36.0       0.153442   \n",
       "37    2023-01-23 12:02:18   0.578 sec             37.0       0.149237   \n",
       "38    2023-01-23 12:02:18   0.583 sec             38.0       0.146072   \n",
       "39    2023-01-23 12:02:18   0.608 sec             39.0       0.142421   \n",
       "40    2023-01-23 12:02:18   0.626 sec             40.0       0.139259   \n",
       "41    2023-01-23 12:02:18   0.640 sec             41.0       0.136069   \n",
       "42    2023-01-23 12:02:18   0.647 sec             42.0       0.133610   \n",
       "43    2023-01-23 12:02:18   0.670 sec             43.0       0.130365   \n",
       "\n",
       "    training_logloss  training_classification_error  training_auc  \\\n",
       "0           1.098612                       0.640000      0.500000   \n",
       "1           1.010264                       0.040000      0.994000   \n",
       "2           0.931892                       0.040000      0.995333   \n",
       "3           0.862121                       0.040000      0.995467   \n",
       "4           0.799366                       0.046667      0.996067   \n",
       "5           0.743388                       0.040000      0.996267   \n",
       "6           0.692221                       0.046667      0.998067   \n",
       "7           0.645615                       0.046667      0.998267   \n",
       "8           0.603229                       0.046667      0.997867   \n",
       "9           0.564478                       0.046667      0.998067   \n",
       "10          0.529024                       0.046667      0.997867   \n",
       "11          0.496371                       0.033333      0.997867   \n",
       "12          0.465880                       0.046667      0.997867   \n",
       "13          0.438235                       0.033333      0.998000   \n",
       "14          0.412534                       0.033333      0.998267   \n",
       "15          0.388677                       0.033333      0.998267   \n",
       "16          0.366590                       0.033333      0.998267   \n",
       "17          0.346028                       0.033333      0.998333   \n",
       "18          0.326971                       0.033333      0.998333   \n",
       "19          0.309110                       0.033333      0.998467   \n",
       "20          0.292620                       0.033333      0.998533   \n",
       "21          0.276770                       0.033333      0.998600   \n",
       "22          0.262089                       0.033333      0.998533   \n",
       "23          0.248196                       0.033333      0.998667   \n",
       "24          0.234858                       0.033333      0.998667   \n",
       "25          0.222811                       0.026667      0.998800   \n",
       "26          0.211202                       0.033333      0.998867   \n",
       "27          0.200695                       0.033333      0.998867   \n",
       "28          0.190537                       0.033333      0.998933   \n",
       "29          0.181682                       0.033333      0.998933   \n",
       "30          0.172780                       0.033333      0.998933   \n",
       "31          0.164436                       0.033333      0.998933   \n",
       "32          0.156895                       0.033333      0.998933   \n",
       "33          0.149594                       0.033333      0.998933   \n",
       "34          0.142955                       0.033333      0.998933   \n",
       "35          0.136559                       0.033333      0.998933   \n",
       "36          0.130324                       0.026667      0.998933   \n",
       "37          0.124298                       0.020000      0.999000   \n",
       "38          0.119241                       0.020000      0.998933   \n",
       "39          0.113968                       0.020000      0.999067   \n",
       "40          0.109170                       0.020000      0.999267   \n",
       "41          0.104544                       0.020000      0.999333   \n",
       "42          0.100561                       0.020000      0.999467   \n",
       "43          0.096242                       0.020000      0.999733   \n",
       "\n",
       "    training_pr_auc  \n",
       "0          0.333333  \n",
       "1          0.988494  \n",
       "2          0.990962  \n",
       "3          0.991218  \n",
       "4          0.992812  \n",
       "5          0.993174  \n",
       "6          0.996238  \n",
       "7          0.996673  \n",
       "8          0.995898  \n",
       "9          0.996260  \n",
       "10         0.995898  \n",
       "11         0.995898  \n",
       "12         0.995898  \n",
       "13         0.996141  \n",
       "14         0.996643  \n",
       "15         0.996643  \n",
       "16         0.996643  \n",
       "17         0.996757  \n",
       "18         0.996757  \n",
       "19         0.997017  \n",
       "20         0.997158  \n",
       "21         0.997273  \n",
       "22         0.997141  \n",
       "23         0.997398  \n",
       "24         0.997417  \n",
       "25         0.997665  \n",
       "26         0.997805  \n",
       "27         0.997805  \n",
       "28         0.997923  \n",
       "29         0.997923  \n",
       "30         0.997923  \n",
       "31         0.997923  \n",
       "32         0.997923  \n",
       "33         0.997923  \n",
       "34         0.997923  \n",
       "35         0.997923  \n",
       "36         0.997923  \n",
       "37         0.998055  \n",
       "38         0.997923  \n",
       "39         0.998179  \n",
       "40         0.998563  \n",
       "41         0.998692  \n",
       "42         0.998959  \n",
       "43         0.999474  "
      ]
     },
     "execution_count": 109,
     "metadata": {},
     "output_type": "execute_result"
    }
   ],
   "source": [
    "# see performance by tree iterations\n",
    "iris_gbm.scoring_history()"
   ]
  },
  {
   "cell_type": "code",
   "execution_count": 110,
   "metadata": {},
   "outputs": [
    {
     "data": {
      "text/plain": [
       "'c:\\\\Users\\\\Huang\\\\PythonProjects\\\\p_h2o_gcp_deploy\\\\modelfiles\\\\irisgbm_20230123.zip'"
      ]
     },
     "execution_count": 110,
     "metadata": {},
     "output_type": "execute_result"
    }
   ],
   "source": [
    "# save model\n",
    "iris_gbm.download_mojo(\"modelfiles/irisgbm_20230123.zip\")"
   ]
  },
  {
   "cell_type": "code",
   "execution_count": 111,
   "metadata": {},
   "outputs": [
    {
     "name": "stdout",
     "output_type": "stream",
     "text": [
      "gbm prediction progress: |███████████████████████████████████████████████████████| (done) 100%\n"
     ]
    }
   ],
   "source": [
    "prediction = iris_gbm.predict(iris_hdf[1,:])"
   ]
  },
  {
   "cell_type": "markdown",
   "metadata": {},
   "source": []
  }
 ],
 "metadata": {
  "kernelspec": {
   "display_name": "h2o",
   "language": "python",
   "name": "python3"
  },
  "language_info": {
   "codemirror_mode": {
    "name": "ipython",
    "version": 3
   },
   "file_extension": ".py",
   "mimetype": "text/x-python",
   "name": "python",
   "nbconvert_exporter": "python",
   "pygments_lexer": "ipython3",
   "version": "3.8.16"
  },
  "orig_nbformat": 4,
  "vscode": {
   "interpreter": {
    "hash": "267a951c76cdbc5112bc379255e98e517e2f7d8f473922dbe23ad2bde2591965"
   }
  }
 },
 "nbformat": 4,
 "nbformat_minor": 2
}
